{
 "cells": [
  {
   "cell_type": "code",
   "execution_count": 3,
   "metadata": {
    "colab": {
     "base_uri": "https://localhost:8080/"
    },
    "executionInfo": {
     "elapsed": 30410,
     "status": "ok",
     "timestamp": 1692384832078,
     "user": {
      "displayName": "Александр Тагаев",
      "userId": "13655966265219234172"
     },
     "user_tz": -180
    },
    "id": "007CYO2mH0iK",
    "outputId": "d7d8f36e-f50a-4334-fbd4-4bde0b356906"
   },
   "outputs": [],
   "source": [
    "#from google.colab import drive\n",
    "#drive.mount('C:/AI')"
   ]
  },
  {
   "cell_type": "code",
   "execution_count": 1,
   "metadata": {
    "executionInfo": {
     "elapsed": 1139,
     "status": "ok",
     "timestamp": 1692384870069,
     "user": {
      "displayName": "Александр Тагаев",
      "userId": "13655966265219234172"
     },
     "user_tz": -180
    },
    "id": "JwhexR7v2MtT"
   },
   "outputs": [],
   "source": [
    "import seaborn as sns # Будем визулизировать данные этой библиотекой\n",
    "import pandas as pd # Библиотека для работы с датафреймом\n",
    "import numpy as np # Библиотека для работы с массивами\n",
    "import matplotlib.pyplot as plt # Будем визулизировать данные этой библиотекой\n",
    "sns.set_style('darkgrid')"
   ]
  },
  {
   "cell_type": "code",
   "execution_count": 2,
   "metadata": {
    "executionInfo": {
     "elapsed": 3134,
     "status": "ok",
     "timestamp": 1692384873202,
     "user": {
      "displayName": "Александр Тагаев",
      "userId": "13655966265219234172"
     },
     "user_tz": -180
    },
    "id": "raotRreGU0Ay"
   },
   "outputs": [],
   "source": [
    "from tensorflow.keras import utils # Функции-утилиты для работы с категориальными данными\n",
    "from tensorflow.keras.models import Sequential, Model # Класс для конструирования последовательной модели нейронной сети\n",
    "from tensorflow.keras.layers import Dense, Dropout, SpatialDropout1D, BatchNormalization, Embedding, Flatten, Activation, Input, concatenate # Основные слои\n",
    "from tensorflow.keras.layers import SimpleRNN, GRU, LSTM, Bidirectional, Conv1D, MaxPooling1D, GlobalMaxPooling1D # Основные слои\n",
    "from tensorflow.keras.optimizers import Adam, Adadelta, SGD, Adagrad, RMSprop, Nadam # Оптимизаторы\n",
    "from tensorflow.keras.initializers import lecun_normal # Инициализатор\n",
    "import re # Регулярные выражения\n",
    "from sklearn.metrics import mean_squared_error, mean_absolute_error # Метрики для расчета ошибок\n",
    "from sklearn.model_selection import train_test_split\n",
    "from sklearn.preprocessing import MinMaxScaler\n",
    "from sklearn.preprocessing import StandardScaler # Масштабирование данных\n",
    "from sklearn.preprocessing import OneHotEncoder\n",
    "from sklearn.feature_selection import mutual_info_regression"
   ]
  },
  {
   "cell_type": "code",
   "execution_count": 3,
   "metadata": {
    "executionInfo": {
     "elapsed": 3,
     "status": "ok",
     "timestamp": 1692384873802,
     "user": {
      "displayName": "Александр Тагаев",
      "userId": "13655966265219234172"
     },
     "user_tz": -180
    },
    "id": "_V5LPmQI7bky"
   },
   "outputs": [],
   "source": [
    "from keras.models import load_model"
   ]
  },
  {
   "cell_type": "code",
   "execution_count": 4,
   "metadata": {
    "executionInfo": {
     "elapsed": 2,
     "status": "ok",
     "timestamp": 1692384873802,
     "user": {
      "displayName": "Александр Тагаев",
      "userId": "13655966265219234172"
     },
     "user_tz": -180
    },
    "id": "XUL_ILqBavx7"
   },
   "outputs": [],
   "source": [
    "from tabulate import tabulate\n",
    "pd.set_option(\"display.max_columns\", 100)"
   ]
  },
  {
   "cell_type": "markdown",
   "metadata": {
    "id": "PDCOeHebSk2A"
   },
   "source": [
    "## перевод в numpy_array"
   ]
  },
  {
   "cell_type": "markdown",
   "metadata": {
    "id": "cZ7BY4NzVcSx"
   },
   "source": [
    "Разбиваем данные на X и Y"
   ]
  },
  {
   "cell_type": "code",
   "execution_count": 5,
   "metadata": {
    "executionInfo": {
     "elapsed": 19949,
     "status": "ok",
     "timestamp": 1692385082424,
     "user": {
      "displayName": "Александр Тагаев",
      "userId": "13655966265219234172"
     },
     "user_tz": -180
    },
    "id": "eO0IGsbBLRoc"
   },
   "outputs": [],
   "source": [
    "db = pd.read_csv('C:/AI/Scoring/Red/End/df_2_train_norm.csv')"
   ]
  },
  {
   "cell_type": "code",
   "execution_count": 6,
   "metadata": {
    "executionInfo": {
     "elapsed": 5016,
     "status": "ok",
     "timestamp": 1692385251004,
     "user": {
      "displayName": "Александр Тагаев",
      "userId": "13655966265219234172"
     },
     "user_tz": -180
    },
    "id": "zt5PTAN6MVw0"
   },
   "outputs": [],
   "source": [
    "db_val = pd.read_csv('C:/AI/Scoring/Red/End/df_2_val_norm.csv')"
   ]
  },
  {
   "cell_type": "code",
   "execution_count": 7,
   "metadata": {
    "executionInfo": {
     "elapsed": 3205,
     "status": "ok",
     "timestamp": 1692385254199,
     "user": {
      "displayName": "Александр Тагаев",
      "userId": "13655966265219234172"
     },
     "user_tz": -180
    },
    "id": "suxiXMs0MV_-"
   },
   "outputs": [],
   "source": [
    "db_test = pd.read_csv('C:/AI/Scoring/Red/End/df_2_test_norm.csv')"
   ]
  },
  {
   "cell_type": "code",
   "execution_count": 8,
   "metadata": {
    "colab": {
     "base_uri": "https://localhost:8080/"
    },
    "executionInfo": {
     "elapsed": 444,
     "status": "ok",
     "timestamp": 1692385600516,
     "user": {
      "displayName": "Александр Тагаев",
      "userId": "13655966265219234172"
     },
     "user_tz": -180
    },
    "id": "hHho2AVeLob3",
    "outputId": "0d90774e-eb3e-4f0c-de2f-ec67e5a59ffa"
   },
   "outputs": [
    {
     "name": "stdout",
     "output_type": "stream",
     "text": [
      "<class 'pandas.core.frame.DataFrame'>\n",
      "RangeIndex: 2483963 entries, 0 to 2483962\n",
      "Data columns (total 38 columns):\n",
      " #   Column                               Dtype  \n",
      "---  ------                               -----  \n",
      " 0   owner_id                             int64  \n",
      " 1   contract_id                          int64  \n",
      " 2   issue_dt                             int64  \n",
      " 3   close_dt                             int64  \n",
      " 4   region_name                          int64  \n",
      " 5   city_name                            int64  \n",
      " 6   population                           int64  \n",
      " 7   date_of_birth                        int64  \n",
      " 8   gender                               int64  \n",
      " 9   education                            int64  \n",
      " 10  position                             int64  \n",
      " 11  dt_nbki                              int64  \n",
      " 12  id_nbki                              int64  \n",
      " 13  issued                               int64  \n",
      " 14  amount                               float64\n",
      " 15  type_credit                          int64  \n",
      " 16  status_credit                        int64  \n",
      " 17  period                               int64  \n",
      " 18  psk                                  float64\n",
      " 19  balance                              float64\n",
      " 20  current_indebtedness                 float64\n",
      " 21  expired                              float64\n",
      " 22  last_payment                         int64  \n",
      " 23  updated                              int64  \n",
      " 24  term_indebtedness_body_loan          float64\n",
      " 25  term_indebtedness_interest           float64\n",
      " 26  term_indebtedness_other              float64\n",
      " 27  overdue_indebtedness_body_loan       float64\n",
      " 28  overdue_indebtedness_interest        float64\n",
      " 29  overdue_indebtedness_other           float64\n",
      " 30  actual_payments_24_Months            float64\n",
      " 31  amount_surety                        float64\n",
      " 32  source_information                   int64  \n",
      " 33  maximum_amount_overdue_indebtedness  float64\n",
      " 34  date_credit_state                    int64  \n",
      " 35  amount_principal_debt_repaid         float64\n",
      " 36  availability_support                 int64  \n",
      " 37  Client_class                         int64  \n",
      "dtypes: float64(15), int64(23)\n",
      "memory usage: 720.1 MB\n"
     ]
    }
   ],
   "source": [
    "db.info()"
   ]
  },
  {
   "cell_type": "code",
   "execution_count": 9,
   "metadata": {
    "colab": {
     "base_uri": "https://localhost:8080/"
    },
    "executionInfo": {
     "elapsed": 2,
     "status": "ok",
     "timestamp": 1692385606675,
     "user": {
      "displayName": "Александр Тагаев",
      "userId": "13655966265219234172"
     },
     "user_tz": -180
    },
    "id": "larHZTgJXI6L",
    "outputId": "d185d28a-bc6b-4f06-b118-6c744596e6ed"
   },
   "outputs": [
    {
     "name": "stdout",
     "output_type": "stream",
     "text": [
      "<class 'pandas.core.frame.DataFrame'>\n",
      "RangeIndex: 672489 entries, 0 to 672488\n",
      "Data columns (total 38 columns):\n",
      " #   Column                               Non-Null Count   Dtype  \n",
      "---  ------                               --------------   -----  \n",
      " 0   owner_id                             672489 non-null  int64  \n",
      " 1   contract_id                          672489 non-null  int64  \n",
      " 2   issue_dt                             672489 non-null  int64  \n",
      " 3   close_dt                             672489 non-null  int64  \n",
      " 4   region_name                          672489 non-null  int64  \n",
      " 5   city_name                            672489 non-null  int64  \n",
      " 6   population                           672489 non-null  int64  \n",
      " 7   date_of_birth                        672489 non-null  int64  \n",
      " 8   gender                               672489 non-null  int64  \n",
      " 9   education                            672489 non-null  int64  \n",
      " 10  position                             672489 non-null  int64  \n",
      " 11  dt_nbki                              672489 non-null  int64  \n",
      " 12  id_nbki                              672489 non-null  int64  \n",
      " 13  issued                               672489 non-null  int64  \n",
      " 14  amount                               672489 non-null  float64\n",
      " 15  type_credit                          672489 non-null  int64  \n",
      " 16  status_credit                        672489 non-null  int64  \n",
      " 17  period                               672489 non-null  int64  \n",
      " 18  psk                                  672489 non-null  float64\n",
      " 19  balance                              672489 non-null  float64\n",
      " 20  current_indebtedness                 672489 non-null  float64\n",
      " 21  expired                              672489 non-null  float64\n",
      " 22  last_payment                         672489 non-null  int64  \n",
      " 23  updated                              672489 non-null  int64  \n",
      " 24  term_indebtedness_body_loan          672489 non-null  float64\n",
      " 25  term_indebtedness_interest           672489 non-null  float64\n",
      " 26  term_indebtedness_other              672489 non-null  float64\n",
      " 27  overdue_indebtedness_body_loan       672489 non-null  float64\n",
      " 28  overdue_indebtedness_interest        672489 non-null  float64\n",
      " 29  overdue_indebtedness_other           672489 non-null  float64\n",
      " 30  actual_payments_24_Months            672489 non-null  float64\n",
      " 31  amount_surety                        672489 non-null  float64\n",
      " 32  source_information                   672489 non-null  int64  \n",
      " 33  maximum_amount_overdue_indebtedness  672489 non-null  float64\n",
      " 34  date_credit_state                    672489 non-null  int64  \n",
      " 35  amount_principal_debt_repaid         672489 non-null  float64\n",
      " 36  availability_support                 672489 non-null  int64  \n",
      " 37  Client_class                         672489 non-null  int64  \n",
      "dtypes: float64(15), int64(23)\n",
      "memory usage: 195.0 MB\n"
     ]
    }
   ],
   "source": [
    "db_val.info()"
   ]
  },
  {
   "cell_type": "code",
   "execution_count": 10,
   "metadata": {
    "colab": {
     "base_uri": "https://localhost:8080/"
    },
    "executionInfo": {
     "elapsed": 3,
     "status": "ok",
     "timestamp": 1692385612221,
     "user": {
      "displayName": "Александр Тагаев",
      "userId": "13655966265219234172"
     },
     "user_tz": -180
    },
    "id": "6LUDhVCsXJGy",
    "outputId": "6b146f19-c023-45a2-e347-e89cdcfa4222"
   },
   "outputs": [
    {
     "name": "stdout",
     "output_type": "stream",
     "text": [
      "<class 'pandas.core.frame.DataFrame'>\n",
      "RangeIndex: 768251 entries, 0 to 768250\n",
      "Data columns (total 38 columns):\n",
      " #   Column                               Non-Null Count   Dtype  \n",
      "---  ------                               --------------   -----  \n",
      " 0   owner_id                             768251 non-null  int64  \n",
      " 1   contract_id                          768251 non-null  int64  \n",
      " 2   issue_dt                             768251 non-null  int64  \n",
      " 3   close_dt                             768251 non-null  int64  \n",
      " 4   region_name                          768251 non-null  int64  \n",
      " 5   city_name                            768251 non-null  int64  \n",
      " 6   population                           768251 non-null  int64  \n",
      " 7   date_of_birth                        768251 non-null  int64  \n",
      " 8   gender                               768251 non-null  int64  \n",
      " 9   education                            768251 non-null  int64  \n",
      " 10  position                             768251 non-null  int64  \n",
      " 11  dt_nbki                              768251 non-null  int64  \n",
      " 12  id_nbki                              768251 non-null  int64  \n",
      " 13  issued                               768251 non-null  int64  \n",
      " 14  amount                               768251 non-null  float64\n",
      " 15  type_credit                          768251 non-null  int64  \n",
      " 16  status_credit                        768251 non-null  int64  \n",
      " 17  period                               768251 non-null  int64  \n",
      " 18  psk                                  768251 non-null  float64\n",
      " 19  balance                              768251 non-null  float64\n",
      " 20  current_indebtedness                 768251 non-null  float64\n",
      " 21  expired                              768251 non-null  float64\n",
      " 22  last_payment                         768251 non-null  int64  \n",
      " 23  updated                              768251 non-null  int64  \n",
      " 24  term_indebtedness_body_loan          768251 non-null  float64\n",
      " 25  term_indebtedness_interest           768251 non-null  float64\n",
      " 26  term_indebtedness_other              768251 non-null  float64\n",
      " 27  overdue_indebtedness_body_loan       768251 non-null  float64\n",
      " 28  overdue_indebtedness_interest        768251 non-null  float64\n",
      " 29  overdue_indebtedness_other           768251 non-null  float64\n",
      " 30  actual_payments_24_Months            768251 non-null  float64\n",
      " 31  amount_surety                        768251 non-null  float64\n",
      " 32  source_information                   768251 non-null  int64  \n",
      " 33  maximum_amount_overdue_indebtedness  768251 non-null  float64\n",
      " 34  date_credit_state                    768251 non-null  int64  \n",
      " 35  amount_principal_debt_repaid         768251 non-null  float64\n",
      " 36  availability_support                 768251 non-null  int64  \n",
      " 37  Client_class                         768251 non-null  int64  \n",
      "dtypes: float64(15), int64(23)\n",
      "memory usage: 222.7 MB\n"
     ]
    }
   ],
   "source": [
    "db_test.info()"
   ]
  },
  {
   "cell_type": "code",
   "execution_count": 11,
   "metadata": {
    "colab": {
     "base_uri": "https://localhost:8080/",
     "height": 383
    },
    "executionInfo": {
     "elapsed": 6,
     "status": "ok",
     "timestamp": 1692385617301,
     "user": {
      "displayName": "Александр Тагаев",
      "userId": "13655966265219234172"
     },
     "user_tz": -180
    },
    "id": "DyVrankELyRZ",
    "outputId": "76494c46-9295-4094-f508-6871aecb07fb"
   },
   "outputs": [
    {
     "data": {
      "text/html": [
       "<div>\n",
       "<style scoped>\n",
       "    .dataframe tbody tr th:only-of-type {\n",
       "        vertical-align: middle;\n",
       "    }\n",
       "\n",
       "    .dataframe tbody tr th {\n",
       "        vertical-align: top;\n",
       "    }\n",
       "\n",
       "    .dataframe thead th {\n",
       "        text-align: right;\n",
       "    }\n",
       "</style>\n",
       "<table border=\"1\" class=\"dataframe\">\n",
       "  <thead>\n",
       "    <tr style=\"text-align: right;\">\n",
       "      <th></th>\n",
       "      <th>owner_id</th>\n",
       "      <th>contract_id</th>\n",
       "      <th>issue_dt</th>\n",
       "      <th>close_dt</th>\n",
       "      <th>region_name</th>\n",
       "      <th>city_name</th>\n",
       "      <th>population</th>\n",
       "      <th>date_of_birth</th>\n",
       "      <th>gender</th>\n",
       "      <th>education</th>\n",
       "      <th>position</th>\n",
       "      <th>dt_nbki</th>\n",
       "      <th>id_nbki</th>\n",
       "      <th>issued</th>\n",
       "      <th>amount</th>\n",
       "      <th>type_credit</th>\n",
       "      <th>status_credit</th>\n",
       "      <th>period</th>\n",
       "      <th>psk</th>\n",
       "      <th>balance</th>\n",
       "      <th>current_indebtedness</th>\n",
       "      <th>expired</th>\n",
       "      <th>last_payment</th>\n",
       "      <th>updated</th>\n",
       "      <th>term_indebtedness_body_loan</th>\n",
       "      <th>term_indebtedness_interest</th>\n",
       "      <th>term_indebtedness_other</th>\n",
       "      <th>overdue_indebtedness_body_loan</th>\n",
       "      <th>overdue_indebtedness_interest</th>\n",
       "      <th>overdue_indebtedness_other</th>\n",
       "      <th>actual_payments_24_Months</th>\n",
       "      <th>amount_surety</th>\n",
       "      <th>source_information</th>\n",
       "      <th>maximum_amount_overdue_indebtedness</th>\n",
       "      <th>date_credit_state</th>\n",
       "      <th>amount_principal_debt_repaid</th>\n",
       "      <th>availability_support</th>\n",
       "      <th>Client_class</th>\n",
       "    </tr>\n",
       "  </thead>\n",
       "  <tbody>\n",
       "    <tr>\n",
       "      <th>0</th>\n",
       "      <td>184</td>\n",
       "      <td>34524</td>\n",
       "      <td>1665964800</td>\n",
       "      <td>1668816000</td>\n",
       "      <td>3</td>\n",
       "      <td>469</td>\n",
       "      <td>182291</td>\n",
       "      <td>373161600</td>\n",
       "      <td>0</td>\n",
       "      <td>1</td>\n",
       "      <td>20</td>\n",
       "      <td>1665964800</td>\n",
       "      <td>4605</td>\n",
       "      <td>1148688000</td>\n",
       "      <td>0.00</td>\n",
       "      <td>12</td>\n",
       "      <td>2</td>\n",
       "      <td>2197584000</td>\n",
       "      <td>0.000</td>\n",
       "      <td>141531.65</td>\n",
       "      <td>0.0</td>\n",
       "      <td>0.0</td>\n",
       "      <td>1421280000</td>\n",
       "      <td>1660608000</td>\n",
       "      <td>0.00</td>\n",
       "      <td>0.0</td>\n",
       "      <td>0.0</td>\n",
       "      <td>0.0</td>\n",
       "      <td>0.0</td>\n",
       "      <td>0.0</td>\n",
       "      <td>0.0</td>\n",
       "      <td>0.0</td>\n",
       "      <td>0</td>\n",
       "      <td>0.00</td>\n",
       "      <td>1421280000</td>\n",
       "      <td>140070.97</td>\n",
       "      <td>0</td>\n",
       "      <td>0</td>\n",
       "    </tr>\n",
       "    <tr>\n",
       "      <th>1</th>\n",
       "      <td>184</td>\n",
       "      <td>34524</td>\n",
       "      <td>1665964800</td>\n",
       "      <td>1668816000</td>\n",
       "      <td>3</td>\n",
       "      <td>469</td>\n",
       "      <td>182291</td>\n",
       "      <td>373161600</td>\n",
       "      <td>0</td>\n",
       "      <td>1</td>\n",
       "      <td>20</td>\n",
       "      <td>1665964800</td>\n",
       "      <td>4605</td>\n",
       "      <td>1370476800</td>\n",
       "      <td>168000.00</td>\n",
       "      <td>11</td>\n",
       "      <td>2</td>\n",
       "      <td>1529280000</td>\n",
       "      <td>0.000</td>\n",
       "      <td>268860.28</td>\n",
       "      <td>0.0</td>\n",
       "      <td>0.0</td>\n",
       "      <td>1529280000</td>\n",
       "      <td>1529452800</td>\n",
       "      <td>0.00</td>\n",
       "      <td>0.0</td>\n",
       "      <td>0.0</td>\n",
       "      <td>0.0</td>\n",
       "      <td>0.0</td>\n",
       "      <td>0.0</td>\n",
       "      <td>0.0</td>\n",
       "      <td>0.0</td>\n",
       "      <td>0</td>\n",
       "      <td>3240.15</td>\n",
       "      <td>1529280000</td>\n",
       "      <td>168000.00</td>\n",
       "      <td>0</td>\n",
       "      <td>0</td>\n",
       "    </tr>\n",
       "    <tr>\n",
       "      <th>2</th>\n",
       "      <td>184</td>\n",
       "      <td>34524</td>\n",
       "      <td>1665964800</td>\n",
       "      <td>1668816000</td>\n",
       "      <td>3</td>\n",
       "      <td>469</td>\n",
       "      <td>182291</td>\n",
       "      <td>373161600</td>\n",
       "      <td>0</td>\n",
       "      <td>1</td>\n",
       "      <td>20</td>\n",
       "      <td>1665964800</td>\n",
       "      <td>4605</td>\n",
       "      <td>1418860800</td>\n",
       "      <td>29356.04</td>\n",
       "      <td>21</td>\n",
       "      <td>2</td>\n",
       "      <td>1450310400</td>\n",
       "      <td>40.998</td>\n",
       "      <td>39779.33</td>\n",
       "      <td>0.0</td>\n",
       "      <td>0.0</td>\n",
       "      <td>1450310400</td>\n",
       "      <td>1451433600</td>\n",
       "      <td>0.00</td>\n",
       "      <td>0.0</td>\n",
       "      <td>0.0</td>\n",
       "      <td>0.0</td>\n",
       "      <td>0.0</td>\n",
       "      <td>0.0</td>\n",
       "      <td>0.0</td>\n",
       "      <td>0.0</td>\n",
       "      <td>0</td>\n",
       "      <td>0.00</td>\n",
       "      <td>1450310400</td>\n",
       "      <td>29356.04</td>\n",
       "      <td>0</td>\n",
       "      <td>0</td>\n",
       "    </tr>\n",
       "    <tr>\n",
       "      <th>3</th>\n",
       "      <td>184</td>\n",
       "      <td>34524</td>\n",
       "      <td>1665964800</td>\n",
       "      <td>1668816000</td>\n",
       "      <td>3</td>\n",
       "      <td>469</td>\n",
       "      <td>182291</td>\n",
       "      <td>373161600</td>\n",
       "      <td>0</td>\n",
       "      <td>1</td>\n",
       "      <td>20</td>\n",
       "      <td>1665964800</td>\n",
       "      <td>4605</td>\n",
       "      <td>1447372800</td>\n",
       "      <td>15620.00</td>\n",
       "      <td>21</td>\n",
       "      <td>2</td>\n",
       "      <td>1479081600</td>\n",
       "      <td>0.000</td>\n",
       "      <td>0.00</td>\n",
       "      <td>0.0</td>\n",
       "      <td>0.0</td>\n",
       "      <td>1476316800</td>\n",
       "      <td>1476316800</td>\n",
       "      <td>0.00</td>\n",
       "      <td>0.0</td>\n",
       "      <td>0.0</td>\n",
       "      <td>0.0</td>\n",
       "      <td>0.0</td>\n",
       "      <td>0.0</td>\n",
       "      <td>0.0</td>\n",
       "      <td>0.0</td>\n",
       "      <td>0</td>\n",
       "      <td>1157.42</td>\n",
       "      <td>1476316800</td>\n",
       "      <td>0.00</td>\n",
       "      <td>0</td>\n",
       "      <td>0</td>\n",
       "    </tr>\n",
       "    <tr>\n",
       "      <th>4</th>\n",
       "      <td>184</td>\n",
       "      <td>34524</td>\n",
       "      <td>1665964800</td>\n",
       "      <td>1668816000</td>\n",
       "      <td>3</td>\n",
       "      <td>469</td>\n",
       "      <td>182291</td>\n",
       "      <td>373161600</td>\n",
       "      <td>0</td>\n",
       "      <td>1</td>\n",
       "      <td>20</td>\n",
       "      <td>1665964800</td>\n",
       "      <td>4605</td>\n",
       "      <td>1449446400</td>\n",
       "      <td>32000.00</td>\n",
       "      <td>12</td>\n",
       "      <td>2</td>\n",
       "      <td>1633046400</td>\n",
       "      <td>29.768</td>\n",
       "      <td>186130.59</td>\n",
       "      <td>0.0</td>\n",
       "      <td>0.0</td>\n",
       "      <td>1629072000</td>\n",
       "      <td>1633046400</td>\n",
       "      <td>0.00</td>\n",
       "      <td>0.0</td>\n",
       "      <td>0.0</td>\n",
       "      <td>0.0</td>\n",
       "      <td>0.0</td>\n",
       "      <td>0.0</td>\n",
       "      <td>0.0</td>\n",
       "      <td>0.0</td>\n",
       "      <td>0</td>\n",
       "      <td>0.00</td>\n",
       "      <td>1633046400</td>\n",
       "      <td>128642.19</td>\n",
       "      <td>0</td>\n",
       "      <td>0</td>\n",
       "    </tr>\n",
       "    <tr>\n",
       "      <th>5</th>\n",
       "      <td>184</td>\n",
       "      <td>34524</td>\n",
       "      <td>1665964800</td>\n",
       "      <td>1668816000</td>\n",
       "      <td>3</td>\n",
       "      <td>469</td>\n",
       "      <td>182291</td>\n",
       "      <td>373161600</td>\n",
       "      <td>0</td>\n",
       "      <td>1</td>\n",
       "      <td>20</td>\n",
       "      <td>1665964800</td>\n",
       "      <td>4605</td>\n",
       "      <td>1476403200</td>\n",
       "      <td>160000.00</td>\n",
       "      <td>12</td>\n",
       "      <td>2</td>\n",
       "      <td>1888099200</td>\n",
       "      <td>29.491</td>\n",
       "      <td>797599.98</td>\n",
       "      <td>0.0</td>\n",
       "      <td>0.0</td>\n",
       "      <td>1664496000</td>\n",
       "      <td>1665014400</td>\n",
       "      <td>161381.41</td>\n",
       "      <td>0.0</td>\n",
       "      <td>0.0</td>\n",
       "      <td>0.0</td>\n",
       "      <td>0.0</td>\n",
       "      <td>0.0</td>\n",
       "      <td>0.0</td>\n",
       "      <td>0.0</td>\n",
       "      <td>0</td>\n",
       "      <td>0.00</td>\n",
       "      <td>1665014400</td>\n",
       "      <td>484629.23</td>\n",
       "      <td>0</td>\n",
       "      <td>0</td>\n",
       "    </tr>\n",
       "    <tr>\n",
       "      <th>6</th>\n",
       "      <td>184</td>\n",
       "      <td>34524</td>\n",
       "      <td>1665964800</td>\n",
       "      <td>1668816000</td>\n",
       "      <td>3</td>\n",
       "      <td>469</td>\n",
       "      <td>182291</td>\n",
       "      <td>373161600</td>\n",
       "      <td>0</td>\n",
       "      <td>1</td>\n",
       "      <td>20</td>\n",
       "      <td>1665964800</td>\n",
       "      <td>4605</td>\n",
       "      <td>1506988800</td>\n",
       "      <td>11976.00</td>\n",
       "      <td>14</td>\n",
       "      <td>2</td>\n",
       "      <td>1530576000</td>\n",
       "      <td>54.710</td>\n",
       "      <td>14900.73</td>\n",
       "      <td>0.0</td>\n",
       "      <td>0.0</td>\n",
       "      <td>1530576000</td>\n",
       "      <td>1530576000</td>\n",
       "      <td>0.00</td>\n",
       "      <td>0.0</td>\n",
       "      <td>0.0</td>\n",
       "      <td>0.0</td>\n",
       "      <td>0.0</td>\n",
       "      <td>0.0</td>\n",
       "      <td>0.0</td>\n",
       "      <td>0.0</td>\n",
       "      <td>8</td>\n",
       "      <td>1512.46</td>\n",
       "      <td>1530576000</td>\n",
       "      <td>11976.00</td>\n",
       "      <td>0</td>\n",
       "      <td>0</td>\n",
       "    </tr>\n",
       "    <tr>\n",
       "      <th>7</th>\n",
       "      <td>184</td>\n",
       "      <td>34524</td>\n",
       "      <td>1665964800</td>\n",
       "      <td>1668816000</td>\n",
       "      <td>3</td>\n",
       "      <td>469</td>\n",
       "      <td>182291</td>\n",
       "      <td>373161600</td>\n",
       "      <td>0</td>\n",
       "      <td>1</td>\n",
       "      <td>20</td>\n",
       "      <td>1665964800</td>\n",
       "      <td>4605</td>\n",
       "      <td>1514592000</td>\n",
       "      <td>14460.72</td>\n",
       "      <td>12</td>\n",
       "      <td>2</td>\n",
       "      <td>1606780800</td>\n",
       "      <td>22.204</td>\n",
       "      <td>12186.18</td>\n",
       "      <td>0.0</td>\n",
       "      <td>0.0</td>\n",
       "      <td>1546992000</td>\n",
       "      <td>1606867200</td>\n",
       "      <td>0.00</td>\n",
       "      <td>0.0</td>\n",
       "      <td>0.0</td>\n",
       "      <td>0.0</td>\n",
       "      <td>0.0</td>\n",
       "      <td>0.0</td>\n",
       "      <td>0.0</td>\n",
       "      <td>0.0</td>\n",
       "      <td>0</td>\n",
       "      <td>0.00</td>\n",
       "      <td>1606780800</td>\n",
       "      <td>10954.45</td>\n",
       "      <td>0</td>\n",
       "      <td>0</td>\n",
       "    </tr>\n",
       "    <tr>\n",
       "      <th>8</th>\n",
       "      <td>184</td>\n",
       "      <td>34524</td>\n",
       "      <td>1665964800</td>\n",
       "      <td>1668816000</td>\n",
       "      <td>3</td>\n",
       "      <td>469</td>\n",
       "      <td>182291</td>\n",
       "      <td>373161600</td>\n",
       "      <td>0</td>\n",
       "      <td>1</td>\n",
       "      <td>20</td>\n",
       "      <td>1665964800</td>\n",
       "      <td>4605</td>\n",
       "      <td>1522886400</td>\n",
       "      <td>35148.00</td>\n",
       "      <td>21</td>\n",
       "      <td>2</td>\n",
       "      <td>1555027200</td>\n",
       "      <td>19.904</td>\n",
       "      <td>39051.67</td>\n",
       "      <td>0.0</td>\n",
       "      <td>0.0</td>\n",
       "      <td>1555286400</td>\n",
       "      <td>1555286400</td>\n",
       "      <td>0.00</td>\n",
       "      <td>0.0</td>\n",
       "      <td>0.0</td>\n",
       "      <td>0.0</td>\n",
       "      <td>0.0</td>\n",
       "      <td>0.0</td>\n",
       "      <td>0.0</td>\n",
       "      <td>0.0</td>\n",
       "      <td>0</td>\n",
       "      <td>3200.62</td>\n",
       "      <td>1555286400</td>\n",
       "      <td>35148.00</td>\n",
       "      <td>0</td>\n",
       "      <td>0</td>\n",
       "    </tr>\n",
       "    <tr>\n",
       "      <th>9</th>\n",
       "      <td>184</td>\n",
       "      <td>34524</td>\n",
       "      <td>1665964800</td>\n",
       "      <td>1668816000</td>\n",
       "      <td>3</td>\n",
       "      <td>469</td>\n",
       "      <td>182291</td>\n",
       "      <td>373161600</td>\n",
       "      <td>0</td>\n",
       "      <td>1</td>\n",
       "      <td>20</td>\n",
       "      <td>1665964800</td>\n",
       "      <td>4605</td>\n",
       "      <td>1531440000</td>\n",
       "      <td>24305.90</td>\n",
       "      <td>12</td>\n",
       "      <td>2</td>\n",
       "      <td>1606780800</td>\n",
       "      <td>22.385</td>\n",
       "      <td>27389.61</td>\n",
       "      <td>0.0</td>\n",
       "      <td>0.0</td>\n",
       "      <td>1563148800</td>\n",
       "      <td>1606867200</td>\n",
       "      <td>0.00</td>\n",
       "      <td>0.0</td>\n",
       "      <td>0.0</td>\n",
       "      <td>0.0</td>\n",
       "      <td>0.0</td>\n",
       "      <td>0.0</td>\n",
       "      <td>0.0</td>\n",
       "      <td>0.0</td>\n",
       "      <td>0</td>\n",
       "      <td>2163.18</td>\n",
       "      <td>1606780800</td>\n",
       "      <td>24305.90</td>\n",
       "      <td>0</td>\n",
       "      <td>0</td>\n",
       "    </tr>\n",
       "  </tbody>\n",
       "</table>\n",
       "</div>"
      ],
      "text/plain": [
       "   owner_id  contract_id    issue_dt    close_dt  region_name  city_name  \\\n",
       "0       184        34524  1665964800  1668816000            3        469   \n",
       "1       184        34524  1665964800  1668816000            3        469   \n",
       "2       184        34524  1665964800  1668816000            3        469   \n",
       "3       184        34524  1665964800  1668816000            3        469   \n",
       "4       184        34524  1665964800  1668816000            3        469   \n",
       "5       184        34524  1665964800  1668816000            3        469   \n",
       "6       184        34524  1665964800  1668816000            3        469   \n",
       "7       184        34524  1665964800  1668816000            3        469   \n",
       "8       184        34524  1665964800  1668816000            3        469   \n",
       "9       184        34524  1665964800  1668816000            3        469   \n",
       "\n",
       "   population  date_of_birth  gender  education  position     dt_nbki  \\\n",
       "0      182291      373161600       0          1        20  1665964800   \n",
       "1      182291      373161600       0          1        20  1665964800   \n",
       "2      182291      373161600       0          1        20  1665964800   \n",
       "3      182291      373161600       0          1        20  1665964800   \n",
       "4      182291      373161600       0          1        20  1665964800   \n",
       "5      182291      373161600       0          1        20  1665964800   \n",
       "6      182291      373161600       0          1        20  1665964800   \n",
       "7      182291      373161600       0          1        20  1665964800   \n",
       "8      182291      373161600       0          1        20  1665964800   \n",
       "9      182291      373161600       0          1        20  1665964800   \n",
       "\n",
       "   id_nbki      issued     amount  type_credit  status_credit      period  \\\n",
       "0     4605  1148688000       0.00           12              2  2197584000   \n",
       "1     4605  1370476800  168000.00           11              2  1529280000   \n",
       "2     4605  1418860800   29356.04           21              2  1450310400   \n",
       "3     4605  1447372800   15620.00           21              2  1479081600   \n",
       "4     4605  1449446400   32000.00           12              2  1633046400   \n",
       "5     4605  1476403200  160000.00           12              2  1888099200   \n",
       "6     4605  1506988800   11976.00           14              2  1530576000   \n",
       "7     4605  1514592000   14460.72           12              2  1606780800   \n",
       "8     4605  1522886400   35148.00           21              2  1555027200   \n",
       "9     4605  1531440000   24305.90           12              2  1606780800   \n",
       "\n",
       "      psk    balance  current_indebtedness  expired  last_payment     updated  \\\n",
       "0   0.000  141531.65                   0.0      0.0    1421280000  1660608000   \n",
       "1   0.000  268860.28                   0.0      0.0    1529280000  1529452800   \n",
       "2  40.998   39779.33                   0.0      0.0    1450310400  1451433600   \n",
       "3   0.000       0.00                   0.0      0.0    1476316800  1476316800   \n",
       "4  29.768  186130.59                   0.0      0.0    1629072000  1633046400   \n",
       "5  29.491  797599.98                   0.0      0.0    1664496000  1665014400   \n",
       "6  54.710   14900.73                   0.0      0.0    1530576000  1530576000   \n",
       "7  22.204   12186.18                   0.0      0.0    1546992000  1606867200   \n",
       "8  19.904   39051.67                   0.0      0.0    1555286400  1555286400   \n",
       "9  22.385   27389.61                   0.0      0.0    1563148800  1606867200   \n",
       "\n",
       "   term_indebtedness_body_loan  term_indebtedness_interest  \\\n",
       "0                         0.00                         0.0   \n",
       "1                         0.00                         0.0   \n",
       "2                         0.00                         0.0   \n",
       "3                         0.00                         0.0   \n",
       "4                         0.00                         0.0   \n",
       "5                    161381.41                         0.0   \n",
       "6                         0.00                         0.0   \n",
       "7                         0.00                         0.0   \n",
       "8                         0.00                         0.0   \n",
       "9                         0.00                         0.0   \n",
       "\n",
       "   term_indebtedness_other  overdue_indebtedness_body_loan  \\\n",
       "0                      0.0                             0.0   \n",
       "1                      0.0                             0.0   \n",
       "2                      0.0                             0.0   \n",
       "3                      0.0                             0.0   \n",
       "4                      0.0                             0.0   \n",
       "5                      0.0                             0.0   \n",
       "6                      0.0                             0.0   \n",
       "7                      0.0                             0.0   \n",
       "8                      0.0                             0.0   \n",
       "9                      0.0                             0.0   \n",
       "\n",
       "   overdue_indebtedness_interest  overdue_indebtedness_other  \\\n",
       "0                            0.0                         0.0   \n",
       "1                            0.0                         0.0   \n",
       "2                            0.0                         0.0   \n",
       "3                            0.0                         0.0   \n",
       "4                            0.0                         0.0   \n",
       "5                            0.0                         0.0   \n",
       "6                            0.0                         0.0   \n",
       "7                            0.0                         0.0   \n",
       "8                            0.0                         0.0   \n",
       "9                            0.0                         0.0   \n",
       "\n",
       "   actual_payments_24_Months  amount_surety  source_information  \\\n",
       "0                        0.0            0.0                   0   \n",
       "1                        0.0            0.0                   0   \n",
       "2                        0.0            0.0                   0   \n",
       "3                        0.0            0.0                   0   \n",
       "4                        0.0            0.0                   0   \n",
       "5                        0.0            0.0                   0   \n",
       "6                        0.0            0.0                   8   \n",
       "7                        0.0            0.0                   0   \n",
       "8                        0.0            0.0                   0   \n",
       "9                        0.0            0.0                   0   \n",
       "\n",
       "   maximum_amount_overdue_indebtedness  date_credit_state  \\\n",
       "0                                 0.00         1421280000   \n",
       "1                              3240.15         1529280000   \n",
       "2                                 0.00         1450310400   \n",
       "3                              1157.42         1476316800   \n",
       "4                                 0.00         1633046400   \n",
       "5                                 0.00         1665014400   \n",
       "6                              1512.46         1530576000   \n",
       "7                                 0.00         1606780800   \n",
       "8                              3200.62         1555286400   \n",
       "9                              2163.18         1606780800   \n",
       "\n",
       "   amount_principal_debt_repaid  availability_support  Client_class  \n",
       "0                     140070.97                     0             0  \n",
       "1                     168000.00                     0             0  \n",
       "2                      29356.04                     0             0  \n",
       "3                          0.00                     0             0  \n",
       "4                     128642.19                     0             0  \n",
       "5                     484629.23                     0             0  \n",
       "6                      11976.00                     0             0  \n",
       "7                      10954.45                     0             0  \n",
       "8                      35148.00                     0             0  \n",
       "9                      24305.90                     0             0  "
      ]
     },
     "execution_count": 11,
     "metadata": {},
     "output_type": "execute_result"
    }
   ],
   "source": [
    "db.head(10)\n"
   ]
  },
  {
   "cell_type": "code",
   "execution_count": 12,
   "metadata": {
    "executionInfo": {
     "elapsed": 2226,
     "status": "ok",
     "timestamp": 1692385631209,
     "user": {
      "displayName": "Александр Тагаев",
      "userId": "13655966265219234172"
     },
     "user_tz": -180
    },
    "id": "rgjGKWCZq3X1"
   },
   "outputs": [],
   "source": [
    "db = db.sample(frac=1)\n",
    "db_val = db_val.sample(frac=1)\n",
    "db_test = db_test.sample(frac=1)"
   ]
  },
  {
   "cell_type": "code",
   "execution_count": 13,
   "metadata": {
    "colab": {
     "base_uri": "https://localhost:8080/",
     "height": 383
    },
    "executionInfo": {
     "elapsed": 4,
     "status": "ok",
     "timestamp": 1692385634958,
     "user": {
      "displayName": "Александр Тагаев",
      "userId": "13655966265219234172"
     },
     "user_tz": -180
    },
    "id": "ZJuAwvGwDu_g",
    "outputId": "13cfd880-962f-418b-d6b2-4acdc75fab98"
   },
   "outputs": [
    {
     "data": {
      "text/html": [
       "<div>\n",
       "<style scoped>\n",
       "    .dataframe tbody tr th:only-of-type {\n",
       "        vertical-align: middle;\n",
       "    }\n",
       "\n",
       "    .dataframe tbody tr th {\n",
       "        vertical-align: top;\n",
       "    }\n",
       "\n",
       "    .dataframe thead th {\n",
       "        text-align: right;\n",
       "    }\n",
       "</style>\n",
       "<table border=\"1\" class=\"dataframe\">\n",
       "  <thead>\n",
       "    <tr style=\"text-align: right;\">\n",
       "      <th></th>\n",
       "      <th>owner_id</th>\n",
       "      <th>contract_id</th>\n",
       "      <th>issue_dt</th>\n",
       "      <th>close_dt</th>\n",
       "      <th>region_name</th>\n",
       "      <th>city_name</th>\n",
       "      <th>population</th>\n",
       "      <th>date_of_birth</th>\n",
       "      <th>gender</th>\n",
       "      <th>education</th>\n",
       "      <th>position</th>\n",
       "      <th>dt_nbki</th>\n",
       "      <th>id_nbki</th>\n",
       "      <th>issued</th>\n",
       "      <th>amount</th>\n",
       "      <th>type_credit</th>\n",
       "      <th>status_credit</th>\n",
       "      <th>period</th>\n",
       "      <th>psk</th>\n",
       "      <th>balance</th>\n",
       "      <th>current_indebtedness</th>\n",
       "      <th>expired</th>\n",
       "      <th>last_payment</th>\n",
       "      <th>updated</th>\n",
       "      <th>term_indebtedness_body_loan</th>\n",
       "      <th>term_indebtedness_interest</th>\n",
       "      <th>term_indebtedness_other</th>\n",
       "      <th>overdue_indebtedness_body_loan</th>\n",
       "      <th>overdue_indebtedness_interest</th>\n",
       "      <th>overdue_indebtedness_other</th>\n",
       "      <th>actual_payments_24_Months</th>\n",
       "      <th>amount_surety</th>\n",
       "      <th>source_information</th>\n",
       "      <th>maximum_amount_overdue_indebtedness</th>\n",
       "      <th>date_credit_state</th>\n",
       "      <th>amount_principal_debt_repaid</th>\n",
       "      <th>availability_support</th>\n",
       "      <th>Client_class</th>\n",
       "    </tr>\n",
       "  </thead>\n",
       "  <tbody>\n",
       "    <tr>\n",
       "      <th>878371</th>\n",
       "      <td>341</td>\n",
       "      <td>15771</td>\n",
       "      <td>1632268800</td>\n",
       "      <td>1634428800</td>\n",
       "      <td>60</td>\n",
       "      <td>317</td>\n",
       "      <td>23114</td>\n",
       "      <td>0</td>\n",
       "      <td>0</td>\n",
       "      <td>5</td>\n",
       "      <td>7</td>\n",
       "      <td>1643932800</td>\n",
       "      <td>6442</td>\n",
       "      <td>1589414400</td>\n",
       "      <td>8720.0</td>\n",
       "      <td>14</td>\n",
       "      <td>2</td>\n",
       "      <td>1593993600</td>\n",
       "      <td>365.000</td>\n",
       "      <td>11528.0</td>\n",
       "      <td>0.0</td>\n",
       "      <td>0.0</td>\n",
       "      <td>1592265600</td>\n",
       "      <td>1592784000</td>\n",
       "      <td>0.0</td>\n",
       "      <td>0.0</td>\n",
       "      <td>0.0</td>\n",
       "      <td>0.0</td>\n",
       "      <td>0.0</td>\n",
       "      <td>0.0</td>\n",
       "      <td>11528.0</td>\n",
       "      <td>0.0</td>\n",
       "      <td>8</td>\n",
       "      <td>0.0</td>\n",
       "      <td>1592265600</td>\n",
       "      <td>0.0</td>\n",
       "      <td>0</td>\n",
       "      <td>0</td>\n",
       "    </tr>\n",
       "    <tr>\n",
       "      <th>1903556</th>\n",
       "      <td>27014</td>\n",
       "      <td>28114</td>\n",
       "      <td>1626652800</td>\n",
       "      <td>1676851200</td>\n",
       "      <td>10</td>\n",
       "      <td>227</td>\n",
       "      <td>311166</td>\n",
       "      <td>0</td>\n",
       "      <td>0</td>\n",
       "      <td>5</td>\n",
       "      <td>7</td>\n",
       "      <td>1626652800</td>\n",
       "      <td>7362</td>\n",
       "      <td>1542326400</td>\n",
       "      <td>15000.0</td>\n",
       "      <td>14</td>\n",
       "      <td>2</td>\n",
       "      <td>1544918400</td>\n",
       "      <td>0.000</td>\n",
       "      <td>17520.0</td>\n",
       "      <td>0.0</td>\n",
       "      <td>0.0</td>\n",
       "      <td>1544745600</td>\n",
       "      <td>1547078400</td>\n",
       "      <td>0.0</td>\n",
       "      <td>0.0</td>\n",
       "      <td>0.0</td>\n",
       "      <td>0.0</td>\n",
       "      <td>0.0</td>\n",
       "      <td>0.0</td>\n",
       "      <td>0.0</td>\n",
       "      <td>0.0</td>\n",
       "      <td>8</td>\n",
       "      <td>0.0</td>\n",
       "      <td>1544745600</td>\n",
       "      <td>0.0</td>\n",
       "      <td>0</td>\n",
       "      <td>1</td>\n",
       "    </tr>\n",
       "    <tr>\n",
       "      <th>1874795</th>\n",
       "      <td>20219</td>\n",
       "      <td>33888</td>\n",
       "      <td>1621987200</td>\n",
       "      <td>1660694400</td>\n",
       "      <td>68</td>\n",
       "      <td>75</td>\n",
       "      <td>12600</td>\n",
       "      <td>201398400</td>\n",
       "      <td>1</td>\n",
       "      <td>0</td>\n",
       "      <td>10</td>\n",
       "      <td>1621987200</td>\n",
       "      <td>12332</td>\n",
       "      <td>1601337600</td>\n",
       "      <td>5150.0</td>\n",
       "      <td>14</td>\n",
       "      <td>2</td>\n",
       "      <td>1602806400</td>\n",
       "      <td>229.735</td>\n",
       "      <td>5755.0</td>\n",
       "      <td>0.0</td>\n",
       "      <td>0.0</td>\n",
       "      <td>1602892800</td>\n",
       "      <td>1616198400</td>\n",
       "      <td>0.0</td>\n",
       "      <td>0.0</td>\n",
       "      <td>0.0</td>\n",
       "      <td>0.0</td>\n",
       "      <td>0.0</td>\n",
       "      <td>0.0</td>\n",
       "      <td>0.0</td>\n",
       "      <td>0.0</td>\n",
       "      <td>8</td>\n",
       "      <td>0.0</td>\n",
       "      <td>1602892800</td>\n",
       "      <td>0.0</td>\n",
       "      <td>0</td>\n",
       "      <td>1</td>\n",
       "    </tr>\n",
       "    <tr>\n",
       "      <th>1436063</th>\n",
       "      <td>7890</td>\n",
       "      <td>19862</td>\n",
       "      <td>1683158400</td>\n",
       "      <td>1687219200</td>\n",
       "      <td>3</td>\n",
       "      <td>469</td>\n",
       "      <td>182291</td>\n",
       "      <td>716860800</td>\n",
       "      <td>1</td>\n",
       "      <td>1</td>\n",
       "      <td>19</td>\n",
       "      <td>1683158400</td>\n",
       "      <td>36558</td>\n",
       "      <td>1682035200</td>\n",
       "      <td>29999.0</td>\n",
       "      <td>21</td>\n",
       "      <td>2</td>\n",
       "      <td>1710201600</td>\n",
       "      <td>43.964</td>\n",
       "      <td>0.0</td>\n",
       "      <td>0.0</td>\n",
       "      <td>0.0</td>\n",
       "      <td>0</td>\n",
       "      <td>1682035200</td>\n",
       "      <td>29999.0</td>\n",
       "      <td>0.0</td>\n",
       "      <td>0.0</td>\n",
       "      <td>0.0</td>\n",
       "      <td>0.0</td>\n",
       "      <td>0.0</td>\n",
       "      <td>0.0</td>\n",
       "      <td>0.0</td>\n",
       "      <td>0</td>\n",
       "      <td>0.0</td>\n",
       "      <td>1682035200</td>\n",
       "      <td>0.0</td>\n",
       "      <td>0</td>\n",
       "      <td>1</td>\n",
       "    </tr>\n",
       "    <tr>\n",
       "      <th>363841</th>\n",
       "      <td>117</td>\n",
       "      <td>26522</td>\n",
       "      <td>1622073600</td>\n",
       "      <td>1624752000</td>\n",
       "      <td>23</td>\n",
       "      <td>398</td>\n",
       "      <td>21719</td>\n",
       "      <td>0</td>\n",
       "      <td>0</td>\n",
       "      <td>6</td>\n",
       "      <td>7</td>\n",
       "      <td>1646092800</td>\n",
       "      <td>23301</td>\n",
       "      <td>1480291200</td>\n",
       "      <td>3751.0</td>\n",
       "      <td>21</td>\n",
       "      <td>2</td>\n",
       "      <td>1482710400</td>\n",
       "      <td>4561.000</td>\n",
       "      <td>4561.0</td>\n",
       "      <td>0.0</td>\n",
       "      <td>0.0</td>\n",
       "      <td>1482624000</td>\n",
       "      <td>1615161600</td>\n",
       "      <td>0.0</td>\n",
       "      <td>0.0</td>\n",
       "      <td>0.0</td>\n",
       "      <td>0.0</td>\n",
       "      <td>0.0</td>\n",
       "      <td>0.0</td>\n",
       "      <td>0.0</td>\n",
       "      <td>0.0</td>\n",
       "      <td>8</td>\n",
       "      <td>0.0</td>\n",
       "      <td>1482624000</td>\n",
       "      <td>0.0</td>\n",
       "      <td>0</td>\n",
       "      <td>0</td>\n",
       "    </tr>\n",
       "    <tr>\n",
       "      <th>1412780</th>\n",
       "      <td>6636</td>\n",
       "      <td>1584</td>\n",
       "      <td>1631232000</td>\n",
       "      <td>1638662400</td>\n",
       "      <td>3</td>\n",
       "      <td>469</td>\n",
       "      <td>182291</td>\n",
       "      <td>926899200</td>\n",
       "      <td>0</td>\n",
       "      <td>0</td>\n",
       "      <td>9</td>\n",
       "      <td>1631232000</td>\n",
       "      <td>20100</td>\n",
       "      <td>1629676800</td>\n",
       "      <td>17000.0</td>\n",
       "      <td>14</td>\n",
       "      <td>2</td>\n",
       "      <td>1632268800</td>\n",
       "      <td>365.000</td>\n",
       "      <td>0.0</td>\n",
       "      <td>0.0</td>\n",
       "      <td>0.0</td>\n",
       "      <td>0</td>\n",
       "      <td>1629763200</td>\n",
       "      <td>0.0</td>\n",
       "      <td>0.0</td>\n",
       "      <td>0.0</td>\n",
       "      <td>0.0</td>\n",
       "      <td>0.0</td>\n",
       "      <td>0.0</td>\n",
       "      <td>0.0</td>\n",
       "      <td>0.0</td>\n",
       "      <td>8</td>\n",
       "      <td>0.0</td>\n",
       "      <td>1629763200</td>\n",
       "      <td>0.0</td>\n",
       "      <td>0</td>\n",
       "      <td>1</td>\n",
       "    </tr>\n",
       "    <tr>\n",
       "      <th>113586</th>\n",
       "      <td>5547</td>\n",
       "      <td>1474</td>\n",
       "      <td>1664841600</td>\n",
       "      <td>1665705600</td>\n",
       "      <td>60</td>\n",
       "      <td>13</td>\n",
       "      <td>24351</td>\n",
       "      <td>0</td>\n",
       "      <td>0</td>\n",
       "      <td>5</td>\n",
       "      <td>7</td>\n",
       "      <td>1664841600</td>\n",
       "      <td>33485</td>\n",
       "      <td>1535068800</td>\n",
       "      <td>0.0</td>\n",
       "      <td>20</td>\n",
       "      <td>2</td>\n",
       "      <td>4102444800</td>\n",
       "      <td>0.000</td>\n",
       "      <td>0.0</td>\n",
       "      <td>0.0</td>\n",
       "      <td>0.0</td>\n",
       "      <td>0</td>\n",
       "      <td>1646006400</td>\n",
       "      <td>0.0</td>\n",
       "      <td>0.0</td>\n",
       "      <td>0.0</td>\n",
       "      <td>0.0</td>\n",
       "      <td>0.0</td>\n",
       "      <td>0.0</td>\n",
       "      <td>0.0</td>\n",
       "      <td>0.0</td>\n",
       "      <td>0</td>\n",
       "      <td>0.0</td>\n",
       "      <td>1535068800</td>\n",
       "      <td>0.0</td>\n",
       "      <td>0</td>\n",
       "      <td>0</td>\n",
       "    </tr>\n",
       "    <tr>\n",
       "      <th>406821</th>\n",
       "      <td>133</td>\n",
       "      <td>17926</td>\n",
       "      <td>1603411200</td>\n",
       "      <td>1605916800</td>\n",
       "      <td>61</td>\n",
       "      <td>409</td>\n",
       "      <td>126479</td>\n",
       "      <td>0</td>\n",
       "      <td>0</td>\n",
       "      <td>5</td>\n",
       "      <td>7</td>\n",
       "      <td>1655856000</td>\n",
       "      <td>28349</td>\n",
       "      <td>1650672000</td>\n",
       "      <td>7714.0</td>\n",
       "      <td>14</td>\n",
       "      <td>2</td>\n",
       "      <td>1653177600</td>\n",
       "      <td>237.251</td>\n",
       "      <td>9219.0</td>\n",
       "      <td>0.0</td>\n",
       "      <td>0.0</td>\n",
       "      <td>1653177600</td>\n",
       "      <td>1653264000</td>\n",
       "      <td>0.0</td>\n",
       "      <td>0.0</td>\n",
       "      <td>0.0</td>\n",
       "      <td>0.0</td>\n",
       "      <td>0.0</td>\n",
       "      <td>0.0</td>\n",
       "      <td>0.0</td>\n",
       "      <td>0.0</td>\n",
       "      <td>8</td>\n",
       "      <td>0.0</td>\n",
       "      <td>1653177600</td>\n",
       "      <td>0.0</td>\n",
       "      <td>0</td>\n",
       "      <td>0</td>\n",
       "    </tr>\n",
       "    <tr>\n",
       "      <th>557965</th>\n",
       "      <td>198</td>\n",
       "      <td>44124</td>\n",
       "      <td>1625702400</td>\n",
       "      <td>1635120000</td>\n",
       "      <td>19</td>\n",
       "      <td>354</td>\n",
       "      <td>7512</td>\n",
       "      <td>202694400</td>\n",
       "      <td>0</td>\n",
       "      <td>6</td>\n",
       "      <td>7</td>\n",
       "      <td>1621296000</td>\n",
       "      <td>7166</td>\n",
       "      <td>1534377600</td>\n",
       "      <td>5023.0</td>\n",
       "      <td>14</td>\n",
       "      <td>2</td>\n",
       "      <td>1537142400</td>\n",
       "      <td>237.250</td>\n",
       "      <td>6104.0</td>\n",
       "      <td>0.0</td>\n",
       "      <td>0.0</td>\n",
       "      <td>1537228800</td>\n",
       "      <td>1615420800</td>\n",
       "      <td>0.0</td>\n",
       "      <td>0.0</td>\n",
       "      <td>0.0</td>\n",
       "      <td>0.0</td>\n",
       "      <td>0.0</td>\n",
       "      <td>0.0</td>\n",
       "      <td>0.0</td>\n",
       "      <td>0.0</td>\n",
       "      <td>8</td>\n",
       "      <td>0.0</td>\n",
       "      <td>1537228800</td>\n",
       "      <td>0.0</td>\n",
       "      <td>0</td>\n",
       "      <td>0</td>\n",
       "    </tr>\n",
       "    <tr>\n",
       "      <th>1731318</th>\n",
       "      <td>21082</td>\n",
       "      <td>42803</td>\n",
       "      <td>1640044800</td>\n",
       "      <td>1644969600</td>\n",
       "      <td>30</td>\n",
       "      <td>359</td>\n",
       "      <td>509420</td>\n",
       "      <td>630028800</td>\n",
       "      <td>1</td>\n",
       "      <td>5</td>\n",
       "      <td>3</td>\n",
       "      <td>1640044800</td>\n",
       "      <td>26193</td>\n",
       "      <td>1626393600</td>\n",
       "      <td>10000.0</td>\n",
       "      <td>14</td>\n",
       "      <td>2</td>\n",
       "      <td>1631923200</td>\n",
       "      <td>365.000</td>\n",
       "      <td>15877.0</td>\n",
       "      <td>0.0</td>\n",
       "      <td>0.0</td>\n",
       "      <td>1631923200</td>\n",
       "      <td>1635724800</td>\n",
       "      <td>0.0</td>\n",
       "      <td>0.0</td>\n",
       "      <td>0.0</td>\n",
       "      <td>0.0</td>\n",
       "      <td>0.0</td>\n",
       "      <td>0.0</td>\n",
       "      <td>0.0</td>\n",
       "      <td>0.0</td>\n",
       "      <td>8</td>\n",
       "      <td>0.0</td>\n",
       "      <td>1631923200</td>\n",
       "      <td>0.0</td>\n",
       "      <td>0</td>\n",
       "      <td>1</td>\n",
       "    </tr>\n",
       "  </tbody>\n",
       "</table>\n",
       "</div>"
      ],
      "text/plain": [
       "         owner_id  contract_id    issue_dt    close_dt  region_name  \\\n",
       "878371        341        15771  1632268800  1634428800           60   \n",
       "1903556     27014        28114  1626652800  1676851200           10   \n",
       "1874795     20219        33888  1621987200  1660694400           68   \n",
       "1436063      7890        19862  1683158400  1687219200            3   \n",
       "363841        117        26522  1622073600  1624752000           23   \n",
       "1412780      6636         1584  1631232000  1638662400            3   \n",
       "113586       5547         1474  1664841600  1665705600           60   \n",
       "406821        133        17926  1603411200  1605916800           61   \n",
       "557965        198        44124  1625702400  1635120000           19   \n",
       "1731318     21082        42803  1640044800  1644969600           30   \n",
       "\n",
       "         city_name  population  date_of_birth  gender  education  position  \\\n",
       "878371         317       23114              0       0          5         7   \n",
       "1903556        227      311166              0       0          5         7   \n",
       "1874795         75       12600      201398400       1          0        10   \n",
       "1436063        469      182291      716860800       1          1        19   \n",
       "363841         398       21719              0       0          6         7   \n",
       "1412780        469      182291      926899200       0          0         9   \n",
       "113586          13       24351              0       0          5         7   \n",
       "406821         409      126479              0       0          5         7   \n",
       "557965         354        7512      202694400       0          6         7   \n",
       "1731318        359      509420      630028800       1          5         3   \n",
       "\n",
       "            dt_nbki  id_nbki      issued   amount  type_credit  status_credit  \\\n",
       "878371   1643932800     6442  1589414400   8720.0           14              2   \n",
       "1903556  1626652800     7362  1542326400  15000.0           14              2   \n",
       "1874795  1621987200    12332  1601337600   5150.0           14              2   \n",
       "1436063  1683158400    36558  1682035200  29999.0           21              2   \n",
       "363841   1646092800    23301  1480291200   3751.0           21              2   \n",
       "1412780  1631232000    20100  1629676800  17000.0           14              2   \n",
       "113586   1664841600    33485  1535068800      0.0           20              2   \n",
       "406821   1655856000    28349  1650672000   7714.0           14              2   \n",
       "557965   1621296000     7166  1534377600   5023.0           14              2   \n",
       "1731318  1640044800    26193  1626393600  10000.0           14              2   \n",
       "\n",
       "             period       psk  balance  current_indebtedness  expired  \\\n",
       "878371   1593993600   365.000  11528.0                   0.0      0.0   \n",
       "1903556  1544918400     0.000  17520.0                   0.0      0.0   \n",
       "1874795  1602806400   229.735   5755.0                   0.0      0.0   \n",
       "1436063  1710201600    43.964      0.0                   0.0      0.0   \n",
       "363841   1482710400  4561.000   4561.0                   0.0      0.0   \n",
       "1412780  1632268800   365.000      0.0                   0.0      0.0   \n",
       "113586   4102444800     0.000      0.0                   0.0      0.0   \n",
       "406821   1653177600   237.251   9219.0                   0.0      0.0   \n",
       "557965   1537142400   237.250   6104.0                   0.0      0.0   \n",
       "1731318  1631923200   365.000  15877.0                   0.0      0.0   \n",
       "\n",
       "         last_payment     updated  term_indebtedness_body_loan  \\\n",
       "878371     1592265600  1592784000                          0.0   \n",
       "1903556    1544745600  1547078400                          0.0   \n",
       "1874795    1602892800  1616198400                          0.0   \n",
       "1436063             0  1682035200                      29999.0   \n",
       "363841     1482624000  1615161600                          0.0   \n",
       "1412780             0  1629763200                          0.0   \n",
       "113586              0  1646006400                          0.0   \n",
       "406821     1653177600  1653264000                          0.0   \n",
       "557965     1537228800  1615420800                          0.0   \n",
       "1731318    1631923200  1635724800                          0.0   \n",
       "\n",
       "         term_indebtedness_interest  term_indebtedness_other  \\\n",
       "878371                          0.0                      0.0   \n",
       "1903556                         0.0                      0.0   \n",
       "1874795                         0.0                      0.0   \n",
       "1436063                         0.0                      0.0   \n",
       "363841                          0.0                      0.0   \n",
       "1412780                         0.0                      0.0   \n",
       "113586                          0.0                      0.0   \n",
       "406821                          0.0                      0.0   \n",
       "557965                          0.0                      0.0   \n",
       "1731318                         0.0                      0.0   \n",
       "\n",
       "         overdue_indebtedness_body_loan  overdue_indebtedness_interest  \\\n",
       "878371                              0.0                            0.0   \n",
       "1903556                             0.0                            0.0   \n",
       "1874795                             0.0                            0.0   \n",
       "1436063                             0.0                            0.0   \n",
       "363841                              0.0                            0.0   \n",
       "1412780                             0.0                            0.0   \n",
       "113586                              0.0                            0.0   \n",
       "406821                              0.0                            0.0   \n",
       "557965                              0.0                            0.0   \n",
       "1731318                             0.0                            0.0   \n",
       "\n",
       "         overdue_indebtedness_other  actual_payments_24_Months  amount_surety  \\\n",
       "878371                          0.0                    11528.0            0.0   \n",
       "1903556                         0.0                        0.0            0.0   \n",
       "1874795                         0.0                        0.0            0.0   \n",
       "1436063                         0.0                        0.0            0.0   \n",
       "363841                          0.0                        0.0            0.0   \n",
       "1412780                         0.0                        0.0            0.0   \n",
       "113586                          0.0                        0.0            0.0   \n",
       "406821                          0.0                        0.0            0.0   \n",
       "557965                          0.0                        0.0            0.0   \n",
       "1731318                         0.0                        0.0            0.0   \n",
       "\n",
       "         source_information  maximum_amount_overdue_indebtedness  \\\n",
       "878371                    8                                  0.0   \n",
       "1903556                   8                                  0.0   \n",
       "1874795                   8                                  0.0   \n",
       "1436063                   0                                  0.0   \n",
       "363841                    8                                  0.0   \n",
       "1412780                   8                                  0.0   \n",
       "113586                    0                                  0.0   \n",
       "406821                    8                                  0.0   \n",
       "557965                    8                                  0.0   \n",
       "1731318                   8                                  0.0   \n",
       "\n",
       "         date_credit_state  amount_principal_debt_repaid  \\\n",
       "878371          1592265600                           0.0   \n",
       "1903556         1544745600                           0.0   \n",
       "1874795         1602892800                           0.0   \n",
       "1436063         1682035200                           0.0   \n",
       "363841          1482624000                           0.0   \n",
       "1412780         1629763200                           0.0   \n",
       "113586          1535068800                           0.0   \n",
       "406821          1653177600                           0.0   \n",
       "557965          1537228800                           0.0   \n",
       "1731318         1631923200                           0.0   \n",
       "\n",
       "         availability_support  Client_class  \n",
       "878371                      0             0  \n",
       "1903556                     0             1  \n",
       "1874795                     0             1  \n",
       "1436063                     0             1  \n",
       "363841                      0             0  \n",
       "1412780                     0             1  \n",
       "113586                      0             0  \n",
       "406821                      0             0  \n",
       "557965                      0             0  \n",
       "1731318                     0             1  "
      ]
     },
     "execution_count": 13,
     "metadata": {},
     "output_type": "execute_result"
    }
   ],
   "source": [
    "db.head(10)"
   ]
  },
  {
   "cell_type": "code",
   "execution_count": 14,
   "metadata": {
    "executionInfo": {
     "elapsed": 471,
     "status": "ok",
     "timestamp": 1692385645909,
     "user": {
      "displayName": "Александр Тагаев",
      "userId": "13655966265219234172"
     },
     "user_tz": -180
    },
    "id": "3mleCuuZZ4QG"
   },
   "outputs": [],
   "source": [
    "X = db.drop('Client_class', axis=1)\n",
    "y = np.array(db['Client_class'])"
   ]
  },
  {
   "cell_type": "code",
   "execution_count": 15,
   "metadata": {
    "executionInfo": {
     "elapsed": 1,
     "status": "ok",
     "timestamp": 1692385647922,
     "user": {
      "displayName": "Александр Тагаев",
      "userId": "13655966265219234172"
     },
     "user_tz": -180
    },
    "id": "HOHNZf8qBkDy"
   },
   "outputs": [],
   "source": [
    "X_val = db_val.drop('Client_class', axis=1)\n",
    "y_val = np.array(db_val['Client_class'])"
   ]
  },
  {
   "cell_type": "code",
   "execution_count": 16,
   "metadata": {
    "executionInfo": {
     "elapsed": 2,
     "status": "ok",
     "timestamp": 1692385650178,
     "user": {
      "displayName": "Александр Тагаев",
      "userId": "13655966265219234172"
     },
     "user_tz": -180
    },
    "id": "UP6o88NVBkQv"
   },
   "outputs": [],
   "source": [
    "X_test = db_test.drop('Client_class', axis=1)\n",
    "y_test = np.array(db_test['Client_class'])"
   ]
  },
  {
   "cell_type": "code",
   "execution_count": 17,
   "metadata": {
    "executionInfo": {
     "elapsed": 1147,
     "status": "ok",
     "timestamp": 1692385653793,
     "user": {
      "displayName": "Александр Тагаев",
      "userId": "13655966265219234172"
     },
     "user_tz": -180
    },
    "id": "yjURq4bX_E3t"
   },
   "outputs": [],
   "source": [
    "# y = np.subtract(y, 1) #если классы идут с 1"
   ]
  },
  {
   "cell_type": "code",
   "execution_count": 18,
   "metadata": {
    "executionInfo": {
     "elapsed": 4,
     "status": "ok",
     "timestamp": 1692385656347,
     "user": {
      "displayName": "Александр Тагаев",
      "userId": "13655966265219234172"
     },
     "user_tz": -180
    },
    "id": "02X8ihyjwEAO"
   },
   "outputs": [],
   "source": [
    "# y_val = np.subtract(y_val, 1) #если классы идут с 1"
   ]
  },
  {
   "cell_type": "code",
   "execution_count": 19,
   "metadata": {
    "executionInfo": {
     "elapsed": 1,
     "status": "ok",
     "timestamp": 1692385658910,
     "user": {
      "displayName": "Александр Тагаев",
      "userId": "13655966265219234172"
     },
     "user_tz": -180
    },
    "id": "se6RMjOCwEd0"
   },
   "outputs": [],
   "source": [
    "# y_test = np.subtract(y_test, 1) #если классы идут с 1"
   ]
  },
  {
   "cell_type": "code",
   "execution_count": 20,
   "metadata": {
    "colab": {
     "base_uri": "https://localhost:8080/"
    },
    "executionInfo": {
     "elapsed": 3,
     "status": "ok",
     "timestamp": 1692385661155,
     "user": {
      "displayName": "Александр Тагаев",
      "userId": "13655966265219234172"
     },
     "user_tz": -180
    },
    "id": "MVTsJ_AfhE3Q",
    "outputId": "78bf4acb-db19-4d85-e725-e250f87e8fbe"
   },
   "outputs": [
    {
     "data": {
      "text/plain": [
       "(         owner_id  contract_id    issue_dt    close_dt  region_name  \\\n",
       " 878371        341        15771  1632268800  1634428800           60   \n",
       " 1903556     27014        28114  1626652800  1676851200           10   \n",
       " 1874795     20219        33888  1621987200  1660694400           68   \n",
       " 1436063      7890        19862  1683158400  1687219200            3   \n",
       " 363841        117        26522  1622073600  1624752000           23   \n",
       " ...           ...          ...         ...         ...          ...   \n",
       " 1229682       404        36214  1628467200  1629590400           43   \n",
       " 1207244       391        11978  1646956800  1652227200           34   \n",
       " 1009962       358        19230  1655164800  1657756800           14   \n",
       " 2374429     28524         5379  1680393600           0           44   \n",
       " 2385831     29215        27565  1641427200           0            9   \n",
       " \n",
       "          city_name  population  date_of_birth  gender  education  position  \\\n",
       " 878371         317       23114              0       0          5         7   \n",
       " 1903556        227      311166              0       0          5         7   \n",
       " 1874795         75       12600      201398400       1          0        10   \n",
       " 1436063        469      182291      716860800       1          1        19   \n",
       " 363841         398       21719              0       0          6         7   \n",
       " ...            ...         ...            ...     ...        ...       ...   \n",
       " 1229682        661      524632      268704000       1          0         7   \n",
       " 1207244        157      157371              0       1          0         7   \n",
       " 1009962        301       85344              0       0          6         7   \n",
       " 2374429        336       53245      828921600       0          6        20   \n",
       " 2385831        732       21118              0       0          6         7   \n",
       " \n",
       "             dt_nbki  id_nbki      issued   amount  type_credit  status_credit  \\\n",
       " 878371   1643932800     6442  1589414400   8720.0           14              2   \n",
       " 1903556  1626652800     7362  1542326400  15000.0           14              2   \n",
       " 1874795  1621987200    12332  1601337600   5150.0           14              2   \n",
       " 1436063  1683158400    36558  1682035200  29999.0           21              2   \n",
       " 363841   1646092800    23301  1480291200   3751.0           21              2   \n",
       " ...             ...      ...         ...      ...          ...            ...   \n",
       " 1229682  1626566400    35316  1561939200  24265.0           14              2   \n",
       " 1207244  1652227200    25491  1644364800  10000.0           14              2   \n",
       " 1009962  1634169600    17531  1473984000  12754.0           21              2   \n",
       " 2374429  1680393600    15300  1668729600  17000.0           14              2   \n",
       " 2385831  1641427200    39985  1563840000   5552.0           14              2   \n",
       " \n",
       "              period        psk  balance  current_indebtedness  expired  \\\n",
       " 878371   1593993600    365.000  11528.0                   0.0      0.0   \n",
       " 1903556  1544918400      0.000  17520.0                   0.0      0.0   \n",
       " 1874795  1602806400    229.735   5755.0                   0.0      0.0   \n",
       " 1436063  1710201600     43.964      0.0                   0.0      0.0   \n",
       " 363841   1482710400   4561.000   4561.0                   0.0      0.0   \n",
       " ...             ...        ...      ...                   ...      ...   \n",
       " 1229682  1564617600    245.158  29154.0                   0.0      0.0   \n",
       " 1207244  1652659200    365.000   6400.0               11700.0      0.0   \n",
       " 1009962  1476489600  15159.000  15159.0                   0.0      0.0   \n",
       " 2374429  1669334400    361.350  18178.0                   0.0      0.0   \n",
       " 2385831  1566518400    365.001   6670.0                   0.0      0.0   \n",
       " \n",
       "          last_payment     updated  term_indebtedness_body_loan  \\\n",
       " 878371     1592265600  1592784000                          0.0   \n",
       " 1903556    1544745600  1547078400                          0.0   \n",
       " 1874795    1602892800  1616198400                          0.0   \n",
       " 1436063             0  1682035200                      29999.0   \n",
       " 363841     1482624000  1615161600                          0.0   \n",
       " ...               ...         ...                          ...   \n",
       " 1229682    1564531200  1615420800                          0.0   \n",
       " 1207244    1649894400  1651363200                          0.0   \n",
       " 1009962    1476489600  1615161600                          0.0   \n",
       " 2374429    1669334400  1669334400                          0.0   \n",
       " 2385831    1566518400  1568073600                          0.0   \n",
       " \n",
       "          term_indebtedness_interest  term_indebtedness_other  \\\n",
       " 878371                          0.0                      0.0   \n",
       " 1903556                         0.0                      0.0   \n",
       " 1874795                         0.0                      0.0   \n",
       " 1436063                         0.0                      0.0   \n",
       " 363841                          0.0                      0.0   \n",
       " ...                             ...                      ...   \n",
       " 1229682                         0.0                      0.0   \n",
       " 1207244                         0.0                      0.0   \n",
       " 1009962                         0.0                      0.0   \n",
       " 2374429                         0.0                      0.0   \n",
       " 2385831                         0.0                      0.0   \n",
       " \n",
       "          overdue_indebtedness_body_loan  overdue_indebtedness_interest  \\\n",
       " 878371                              0.0                            0.0   \n",
       " 1903556                             0.0                            0.0   \n",
       " 1874795                             0.0                            0.0   \n",
       " 1436063                             0.0                            0.0   \n",
       " 363841                              0.0                            0.0   \n",
       " ...                                 ...                            ...   \n",
       " 1229682                             0.0                            0.0   \n",
       " 1207244                             0.0                            0.0   \n",
       " 1009962                             0.0                            0.0   \n",
       " 2374429                             0.0                            0.0   \n",
       " 2385831                             0.0                            0.0   \n",
       " \n",
       "          overdue_indebtedness_other  actual_payments_24_Months  amount_surety  \\\n",
       " 878371                          0.0                    11528.0            0.0   \n",
       " 1903556                         0.0                        0.0            0.0   \n",
       " 1874795                         0.0                        0.0            0.0   \n",
       " 1436063                         0.0                        0.0            0.0   \n",
       " 363841                          0.0                        0.0            0.0   \n",
       " ...                             ...                        ...            ...   \n",
       " 1229682                         0.0                        0.0            0.0   \n",
       " 1207244                         0.0                        0.0            0.0   \n",
       " 1009962                         0.0                        0.0            0.0   \n",
       " 2374429                         0.0                        0.0            0.0   \n",
       " 2385831                         0.0                        0.0            0.0   \n",
       " \n",
       "          source_information  maximum_amount_overdue_indebtedness  \\\n",
       " 878371                    8                                  0.0   \n",
       " 1903556                   8                                  0.0   \n",
       " 1874795                   8                                  0.0   \n",
       " 1436063                   0                                  0.0   \n",
       " 363841                    8                                  0.0   \n",
       " ...                     ...                                  ...   \n",
       " 1229682                   8                                  0.0   \n",
       " 1207244                   8                                  0.0   \n",
       " 1009962                   8                                  0.0   \n",
       " 2374429                   8                                  0.0   \n",
       " 2385831                   8                                  0.0   \n",
       " \n",
       "          date_credit_state  amount_principal_debt_repaid  availability_support  \n",
       " 878371          1592265600                           0.0                     0  \n",
       " 1903556         1544745600                           0.0                     0  \n",
       " 1874795         1602892800                           0.0                     0  \n",
       " 1436063         1682035200                           0.0                     0  \n",
       " 363841          1482624000                           0.0                     0  \n",
       " ...                    ...                           ...                   ...  \n",
       " 1229682         1564531200                           0.0                     0  \n",
       " 1207244         1651363200                           0.0                     0  \n",
       " 1009962         1476489600                           0.0                     0  \n",
       " 2374429         1669334400                       17000.0                     0  \n",
       " 2385831         1566518400                           0.0                     0  \n",
       " \n",
       " [2483963 rows x 37 columns],\n",
       " array([0, 1, 1, ..., 0, 1, 1], dtype=int64))"
      ]
     },
     "execution_count": 20,
     "metadata": {},
     "output_type": "execute_result"
    }
   ],
   "source": [
    "X, y"
   ]
  },
  {
   "cell_type": "code",
   "execution_count": 21,
   "metadata": {
    "colab": {
     "base_uri": "https://localhost:8080/"
    },
    "executionInfo": {
     "elapsed": 2910,
     "status": "ok",
     "timestamp": 1692385686613,
     "user": {
      "displayName": "Александр Тагаев",
      "userId": "13655966265219234172"
     },
     "user_tz": -180
    },
    "id": "jCJ2w2mAaqaB",
    "outputId": "e285a130-f52a-4b74-a1f6-5f0c040c7ca9"
   },
   "outputs": [
    {
     "name": "stdout",
     "output_type": "stream",
     "text": [
      "[[3.05202248e-02 1.21598652e+00 6.39940538e+01 ... 1.94652755e+01\n",
      "  0.00000000e+00 0.00000000e+00]\n",
      " [2.41781041e+00 2.16766503e+00 6.37738752e+01 ... 1.88843487e+01\n",
      "  0.00000000e+00 0.00000000e+00]\n",
      " [1.80964347e+00 2.61285596e+00 6.35909576e+01 ... 1.95951919e+01\n",
      "  0.00000000e+00 0.00000000e+00]\n",
      " ...\n",
      " [3.20417609e-02 1.48268473e+00 6.48917048e+01 ... 1.80499264e+01\n",
      "  0.00000000e+00 0.00000000e+00]\n",
      " [2.55295862e+00 4.14735369e-01 6.58808147e+01 ... 2.04074333e+01\n",
      "  2.30609186e-01 0.00000000e+00]\n",
      " [2.61480459e+00 2.12533565e+00 6.43531142e+01 ... 1.91505188e+01\n",
      "  0.00000000e+00 0.00000000e+00]]\n",
      "[0 1]\n"
     ]
    }
   ],
   "source": [
    "scaler = StandardScaler(with_mean=False) # Нормализуем данные\n",
    "scaler.fit(X)\n",
    "x = scaler.transform(X)\n",
    "print(x) # Посмотрим на нормализованные данные\n",
    "print(np.unique(y))"
   ]
  },
  {
   "cell_type": "code",
   "execution_count": 22,
   "metadata": {
    "colab": {
     "base_uri": "https://localhost:8080/"
    },
    "executionInfo": {
     "elapsed": 1386,
     "status": "ok",
     "timestamp": 1692385699436,
     "user": {
      "displayName": "Александр Тагаев",
      "userId": "13655966265219234172"
     },
     "user_tz": -180
    },
    "id": "J4jCbeNoB7bT",
    "outputId": "ad605926-aab8-4e39-90cc-73daf74d18ef"
   },
   "outputs": [
    {
     "name": "stdout",
     "output_type": "stream",
     "text": [
      "[[1.48017569e+00 3.07949820e+00 6.32736721e+01 ... 1.95365712e+01\n",
      "  0.00000000e+00 0.00000000e+00]\n",
      " [4.21277318e-01 3.36726778e+00 6.36255497e+01 ... 2.00747158e+01\n",
      "  0.00000000e+00 0.00000000e+00]\n",
      " [1.93837879e+00 2.93882460e+00 6.39503597e+01 ... 2.01547969e+01\n",
      "  0.00000000e+00 0.00000000e+00]\n",
      " ...\n",
      " [2.93789044e-02 4.13818693e-01 6.43056207e+01 ... 1.59062306e+01\n",
      "  0.00000000e+00 0.00000000e+00]\n",
      " [7.13269487e-01 1.27055029e-01 6.35240465e+01 ... 1.86129698e+01\n",
      "  0.00000000e+00 0.00000000e+00]\n",
      " [2.68632796e-02 6.80541400e-01 6.50059923e+01 ... 1.93998996e+01\n",
      "  0.00000000e+00 0.00000000e+00]]\n",
      "[0 1]\n"
     ]
    }
   ],
   "source": [
    "\n",
    "scaler.fit(X_val)\n",
    "x_val = scaler.transform(X_val)\n",
    "print(x_val) # Посмотрим на нормализованные данные\n",
    "print(np.unique(y_val))"
   ]
  },
  {
   "cell_type": "code",
   "execution_count": 23,
   "metadata": {
    "colab": {
     "base_uri": "https://localhost:8080/"
    },
    "executionInfo": {
     "elapsed": 562,
     "status": "ok",
     "timestamp": 1692385703340,
     "user": {
      "displayName": "Александр Тагаев",
      "userId": "13655966265219234172"
     },
     "user_tz": -180
    },
    "id": "mVoqzVmmB7m_",
    "outputId": "0770a690-875e-4b51-bbe0-afdc8a8bccbd"
   },
   "outputs": [
    {
     "name": "stdout",
     "output_type": "stream",
     "text": [
      "[[1.52917353e+00 1.96840691e+00 6.40623489e+01 ... 1.89951932e+01\n",
      "  0.00000000e+00 0.00000000e+00]\n",
      " [1.62725594e-02 2.95510921e+00 6.63242121e+01 ... 1.73929918e+01\n",
      "  0.00000000e+00 0.00000000e+00]\n",
      " [2.15262714e+00 2.83032017e+00 6.51661110e+01 ... 1.95384685e+01\n",
      "  0.00000000e+00 0.00000000e+00]\n",
      " ...\n",
      " [3.20086607e-02 2.65786063e+00 6.42355547e+01 ... 1.91987936e+01\n",
      "  0.00000000e+00 0.00000000e+00]\n",
      " [2.15611411e+00 9.28575063e-01 6.32982060e+01 ... 1.89440374e+01\n",
      "  0.00000000e+00 0.00000000e+00]\n",
      " [1.44843660e-02 1.92627234e+00 6.58385568e+01 ... 1.90698808e+01\n",
      "  0.00000000e+00 0.00000000e+00]]\n",
      "[0 1]\n"
     ]
    }
   ],
   "source": [
    "\n",
    "scaler.fit(X_test)\n",
    "x_test = scaler.transform(X_test)\n",
    "print(x_test) # Посмотрим на нормализованные данные\n",
    "print(np.unique(y_test))"
   ]
  },
  {
   "cell_type": "code",
   "execution_count": 24,
   "metadata": {
    "executionInfo": {
     "elapsed": 1069,
     "status": "ok",
     "timestamp": 1692385710909,
     "user": {
      "displayName": "Александр Тагаев",
      "userId": "13655966265219234172"
     },
     "user_tz": -180
    },
    "id": "fW280FAko8Cn"
   },
   "outputs": [],
   "source": [
    "from keras.utils import to_categorical"
   ]
  },
  {
   "cell_type": "code",
   "execution_count": 25,
   "metadata": {
    "colab": {
     "base_uri": "https://localhost:8080/"
    },
    "executionInfo": {
     "elapsed": 1,
     "status": "ok",
     "timestamp": 1692385713896,
     "user": {
      "displayName": "Александр Тагаев",
      "userId": "13655966265219234172"
     },
     "user_tz": -180
    },
    "id": "zUJE4uJbne3F",
    "outputId": "40297ce7-bf4c-416e-e0c7-9c8345e7a0e0"
   },
   "outputs": [
    {
     "name": "stdout",
     "output_type": "stream",
     "text": [
      "[0 1]\n"
     ]
    }
   ],
   "source": [
    "print(np.unique(y))"
   ]
  },
  {
   "cell_type": "code",
   "execution_count": 26,
   "metadata": {
    "executionInfo": {
     "elapsed": 1067,
     "status": "ok",
     "timestamp": 1692385721179,
     "user": {
      "displayName": "Александр Тагаев",
      "userId": "13655966265219234172"
     },
     "user_tz": -180
    },
    "id": "0QsH8ObA6ItU"
   },
   "outputs": [],
   "source": [
    "# Преобразование ответов в формат one_hot_encoding\n",
    "y = to_categorical(y, num_classes = 2)"
   ]
  },
  {
   "cell_type": "code",
   "execution_count": 27,
   "metadata": {
    "executionInfo": {
     "elapsed": 1,
     "status": "ok",
     "timestamp": 1692385723962,
     "user": {
      "displayName": "Александр Тагаев",
      "userId": "13655966265219234172"
     },
     "user_tz": -180
    },
    "id": "QD02dXj2U2j4"
   },
   "outputs": [],
   "source": [
    "y_val = to_categorical(y_val, num_classes = 2)"
   ]
  },
  {
   "cell_type": "code",
   "execution_count": 28,
   "metadata": {
    "executionInfo": {
     "elapsed": 1,
     "status": "ok",
     "timestamp": 1692385724616,
     "user": {
      "displayName": "Александр Тагаев",
      "userId": "13655966265219234172"
     },
     "user_tz": -180
    },
    "id": "b3XUoV4NU3cJ"
   },
   "outputs": [],
   "source": [
    "y_test = to_categorical(y_test, num_classes = 2)"
   ]
  },
  {
   "cell_type": "code",
   "execution_count": 29,
   "metadata": {
    "colab": {
     "base_uri": "https://localhost:8080/"
    },
    "executionInfo": {
     "elapsed": 3,
     "status": "ok",
     "timestamp": 1692385729743,
     "user": {
      "displayName": "Александр Тагаев",
      "userId": "13655966265219234172"
     },
     "user_tz": -180
    },
    "id": "VW7Yp8l16Yop",
    "outputId": "087e4d09-a1be-4806-e062-173681f7f62f"
   },
   "outputs": [
    {
     "name": "stdout",
     "output_type": "stream",
     "text": [
      "Размер y_test: (768251, 2)\n"
     ]
    }
   ],
   "source": [
    "print('Размер y_test:', y_test.shape)"
   ]
  },
  {
   "cell_type": "code",
   "execution_count": null,
   "metadata": {
    "id": "z3EkzuA-24dD"
   },
   "outputs": [],
   "source": []
  },
  {
   "cell_type": "markdown",
   "metadata": {
    "id": "FZdTTkPkKbaJ"
   },
   "source": [
    "#Модель 2"
   ]
  },
  {
   "cell_type": "code",
   "execution_count": 30,
   "metadata": {
    "id": "Zgw9SIiELHDS"
   },
   "outputs": [],
   "source": [
    "from keras.initializers import glorot_uniform"
   ]
  },
  {
   "cell_type": "code",
   "execution_count": 31,
   "metadata": {
    "colab": {
     "base_uri": "https://localhost:8080/"
    },
    "executionInfo": {
     "elapsed": 3798,
     "status": "ok",
     "timestamp": 1692385774751,
     "user": {
      "displayName": "Александр Тагаев",
      "userId": "13655966265219234172"
     },
     "user_tz": -180
    },
    "id": "T863zW_sKf9-",
    "outputId": "246b50e0-30f8-45ea-a90c-2c0d944bbd71"
   },
   "outputs": [
    {
     "name": "stdout",
     "output_type": "stream",
     "text": [
      "Model: \"sequential\"\n",
      "_________________________________________________________________\n",
      " Layer (type)                Output Shape              Param #   \n",
      "=================================================================\n",
      " dense (Dense)               (None, 576)               21888     \n",
      "                                                                 \n",
      " batch_normalization (Batch  (None, 576)               2304      \n",
      " Normalization)                                                  \n",
      "                                                                 \n",
      " dropout (Dropout)           (None, 576)               0         \n",
      "                                                                 \n",
      " dense_1 (Dense)             (None, 384)               221568    \n",
      "                                                                 \n",
      " batch_normalization_1 (Bat  (None, 384)               1536      \n",
      " chNormalization)                                                \n",
      "                                                                 \n",
      " dropout_1 (Dropout)         (None, 384)               0         \n",
      "                                                                 \n",
      " dense_2 (Dense)             (None, 2)                 770       \n",
      "                                                                 \n",
      "=================================================================\n",
      "Total params: 248066 (969.01 KB)\n",
      "Trainable params: 246146 (961.51 KB)\n",
      "Non-trainable params: 1920 (7.50 KB)\n",
      "_________________________________________________________________\n"
     ]
    }
   ],
   "source": [
    "number_of_cols = x.shape[1]\n",
    "initializer=glorot_uniform(seed=64)\n",
    "\n",
    "model22_cl = Sequential() # Последовательная модель нейронной сети\n",
    "\n",
    "model22_cl.add(Dense(576, input_dim=number_of_cols, kernel_initializer=initializer, activation='selu'))\n",
    "model22_cl.add(BatchNormalization())\n",
    "model22_cl.add(Dropout(0.4))\n",
    "model22_cl.add(Dense(384, kernel_initializer=initializer, activation='selu'))\n",
    "model22_cl.add(BatchNormalization())\n",
    "model22_cl.add(Dropout(0.4))\n",
    "model22_cl.add(Dense(2, activation='softmax'))\n",
    "\n",
    "model22_cl.summary()"
   ]
  },
  {
   "cell_type": "code",
   "execution_count": 32,
   "metadata": {
    "executionInfo": {
     "elapsed": 1083,
     "status": "ok",
     "timestamp": 1692385788642,
     "user": {
      "displayName": "Александр Тагаев",
      "userId": "13655966265219234172"
     },
     "user_tz": -180
    },
    "id": "CyFTb-QkKgB4"
   },
   "outputs": [],
   "source": [
    "model22_cl.compile(optimizer=RMSprop(learning_rate=0.0005, rho=0.85),\n",
    "              metrics=['accuracy'],\n",
    "              loss='CategoricalCrossentropy')"
   ]
  },
  {
   "cell_type": "code",
   "execution_count": 33,
   "metadata": {
    "colab": {
     "base_uri": "https://localhost:8080/"
    },
    "executionInfo": {
     "elapsed": 437,
     "status": "ok",
     "timestamp": 1692385792790,
     "user": {
      "displayName": "Александр Тагаев",
      "userId": "13655966265219234172"
     },
     "user_tz": -180
    },
    "id": "ZF31aVJIKgF0",
    "outputId": "263ea747-f32e-46cc-a0c0-f99921d369c9"
   },
   "outputs": [
    {
     "data": {
      "text/plain": [
       "((2483963, 37), (2483963, 2))"
      ]
     },
     "execution_count": 33,
     "metadata": {},
     "output_type": "execute_result"
    }
   ],
   "source": [
    "x.shape, y.shape"
   ]
  },
  {
   "cell_type": "code",
   "execution_count": 34,
   "metadata": {
    "colab": {
     "base_uri": "https://localhost:8080/",
     "height": 1000
    },
    "executionInfo": {
     "elapsed": 2403658,
     "status": "ok",
     "timestamp": 1692394103484,
     "user": {
      "displayName": "Александр Тагаев",
      "userId": "13655966265219234172"
     },
     "user_tz": -180
    },
    "id": "qnRnsBcKKgJR",
    "outputId": "adf09279-b228-40a0-b989-4b614916290f"
   },
   "outputs": [
    {
     "name": "stdout",
     "output_type": "stream",
     "text": [
      "Epoch 1/50\n",
      "77624/77624 [==============================] - 297s 4ms/step - loss: 0.0975 - accuracy: 0.9651 - val_loss: 2.2515 - val_accuracy: 0.6837\n",
      "Epoch 2/50\n",
      "77624/77624 [==============================] - 284s 4ms/step - loss: 0.0738 - accuracy: 0.9753 - val_loss: 0.5237 - val_accuracy: 0.9078\n",
      "Epoch 3/50\n",
      "77624/77624 [==============================] - 271s 3ms/step - loss: 0.0690 - accuracy: 0.9768 - val_loss: 0.9166 - val_accuracy: 0.8551\n",
      "Epoch 4/50\n",
      "77624/77624 [==============================] - 280s 4ms/step - loss: 0.0661 - accuracy: 0.9776 - val_loss: 0.2880 - val_accuracy: 0.9343\n",
      "Epoch 5/50\n",
      "77624/77624 [==============================] - 289s 4ms/step - loss: 0.0658 - accuracy: 0.9779 - val_loss: 0.4567 - val_accuracy: 0.9328\n",
      "Epoch 6/50\n",
      "77624/77624 [==============================] - 287s 4ms/step - loss: 0.0644 - accuracy: 0.9783 - val_loss: 1.0481 - val_accuracy: 0.9040\n",
      "Epoch 7/50\n",
      "77624/77624 [==============================] - 288s 4ms/step - loss: 0.0636 - accuracy: 0.9785 - val_loss: 0.3464 - val_accuracy: 0.9318\n",
      "Epoch 8/50\n",
      "77624/77624 [==============================] - 273s 4ms/step - loss: 0.0631 - accuracy: 0.9788 - val_loss: 0.4677 - val_accuracy: 0.9336\n",
      "Epoch 9/50\n",
      "77624/77624 [==============================] - 272s 4ms/step - loss: 0.0624 - accuracy: 0.9790 - val_loss: 0.6358 - val_accuracy: 0.8996\n",
      "Epoch 10/50\n",
      "77624/77624 [==============================] - 271s 3ms/step - loss: 0.0621 - accuracy: 0.9789 - val_loss: 0.1084 - val_accuracy: 0.9592\n",
      "Epoch 11/50\n",
      "77624/77624 [==============================] - 271s 3ms/step - loss: 0.0612 - accuracy: 0.9793 - val_loss: 0.6997 - val_accuracy: 0.9329\n",
      "Epoch 12/50\n",
      "77624/77624 [==============================] - 272s 3ms/step - loss: 0.0608 - accuracy: 0.9794 - val_loss: 2.0057 - val_accuracy: 0.9338\n",
      "Epoch 13/50\n",
      "77624/77624 [==============================] - 272s 4ms/step - loss: 0.0604 - accuracy: 0.9794 - val_loss: 0.5403 - val_accuracy: 0.9330\n",
      "Epoch 14/50\n",
      "77624/77624 [==============================] - 271s 3ms/step - loss: 0.0604 - accuracy: 0.9794 - val_loss: 1.2729 - val_accuracy: 0.8975\n",
      "Epoch 15/50\n",
      "77624/77624 [==============================] - 271s 3ms/step - loss: 0.0605 - accuracy: 0.9795 - val_loss: 0.8192 - val_accuracy: 0.9108\n",
      "Epoch 16/50\n",
      "77624/77624 [==============================] - 272s 4ms/step - loss: 0.0601 - accuracy: 0.9796 - val_loss: 0.5455 - val_accuracy: 0.9366\n",
      "Epoch 17/50\n",
      "77624/77624 [==============================] - 271s 3ms/step - loss: 0.0596 - accuracy: 0.9797 - val_loss: 0.4841 - val_accuracy: 0.9306\n",
      "Epoch 18/50\n",
      "77624/77624 [==============================] - 271s 3ms/step - loss: 0.0595 - accuracy: 0.9797 - val_loss: 0.9856 - val_accuracy: 0.9230\n",
      "Epoch 19/50\n",
      "77624/77624 [==============================] - 273s 4ms/step - loss: 0.0591 - accuracy: 0.9800 - val_loss: 0.8771 - val_accuracy: 0.9297\n",
      "Epoch 20/50\n",
      "77624/77624 [==============================] - 273s 4ms/step - loss: 0.0589 - accuracy: 0.9799 - val_loss: 0.5887 - val_accuracy: 0.9301\n",
      "Epoch 21/50\n",
      "77624/77624 [==============================] - 273s 4ms/step - loss: 0.0590 - accuracy: 0.9799 - val_loss: 0.4618 - val_accuracy: 0.9292\n",
      "Epoch 22/50\n",
      "77624/77624 [==============================] - 273s 4ms/step - loss: 0.0591 - accuracy: 0.9799 - val_loss: 0.9931 - val_accuracy: 0.9312\n",
      "Epoch 23/50\n",
      "77624/77624 [==============================] - 279s 4ms/step - loss: 0.0588 - accuracy: 0.9799 - val_loss: 0.9884 - val_accuracy: 0.9316\n",
      "Epoch 24/50\n",
      "77624/77624 [==============================] - 273s 4ms/step - loss: 0.0584 - accuracy: 0.9801 - val_loss: 0.7794 - val_accuracy: 0.9319\n",
      "Epoch 25/50\n",
      "77624/77624 [==============================] - 272s 4ms/step - loss: 0.0585 - accuracy: 0.9800 - val_loss: 0.8333 - val_accuracy: 0.9103\n",
      "Epoch 26/50\n",
      "77624/77624 [==============================] - 274s 4ms/step - loss: 0.0583 - accuracy: 0.9801 - val_loss: 0.4576 - val_accuracy: 0.9330\n",
      "Epoch 27/50\n",
      "77624/77624 [==============================] - 273s 4ms/step - loss: 0.0585 - accuracy: 0.9801 - val_loss: 0.5459 - val_accuracy: 0.9313\n",
      "Epoch 28/50\n",
      "77624/77624 [==============================] - 274s 4ms/step - loss: 0.0581 - accuracy: 0.9801 - val_loss: 0.5253 - val_accuracy: 0.9322\n",
      "Epoch 29/50\n",
      "77624/77624 [==============================] - 273s 4ms/step - loss: 0.0578 - accuracy: 0.9802 - val_loss: 1.9988 - val_accuracy: 0.9308\n",
      "Epoch 30/50\n",
      "77624/77624 [==============================] - 272s 4ms/step - loss: 0.0576 - accuracy: 0.9803 - val_loss: 1.7546 - val_accuracy: 0.9260\n",
      "Epoch 31/50\n",
      "77624/77624 [==============================] - 273s 4ms/step - loss: 0.0578 - accuracy: 0.9803 - val_loss: 0.6893 - val_accuracy: 0.9317\n",
      "Epoch 32/50\n",
      "77624/77624 [==============================] - 272s 4ms/step - loss: 0.0576 - accuracy: 0.9804 - val_loss: 0.8142 - val_accuracy: 0.9278\n",
      "Epoch 33/50\n",
      "77624/77624 [==============================] - 275s 4ms/step - loss: 0.0578 - accuracy: 0.9803 - val_loss: 2.3866 - val_accuracy: 0.9339\n",
      "Epoch 34/50\n",
      "77624/77624 [==============================] - 273s 4ms/step - loss: 0.0571 - accuracy: 0.9804 - val_loss: 0.6003 - val_accuracy: 0.9317\n",
      "Epoch 35/50\n",
      "77624/77624 [==============================] - 273s 4ms/step - loss: 0.0572 - accuracy: 0.9804 - val_loss: 0.6198 - val_accuracy: 0.9303\n",
      "Epoch 36/50\n",
      "77624/77624 [==============================] - 274s 4ms/step - loss: 0.0570 - accuracy: 0.9806 - val_loss: 0.8018 - val_accuracy: 0.9301\n",
      "Epoch 37/50\n",
      "77624/77624 [==============================] - 274s 4ms/step - loss: 0.0574 - accuracy: 0.9804 - val_loss: 0.5823 - val_accuracy: 0.9322\n",
      "Epoch 38/50\n",
      "77624/77624 [==============================] - 274s 4ms/step - loss: 0.0572 - accuracy: 0.9804 - val_loss: 0.7066 - val_accuracy: 0.9323\n",
      "Epoch 39/50\n",
      "77624/77624 [==============================] - 275s 4ms/step - loss: 0.0576 - accuracy: 0.9804 - val_loss: 0.4758 - val_accuracy: 0.9321\n",
      "Epoch 40/50\n",
      "77624/77624 [==============================] - 273s 4ms/step - loss: 0.0570 - accuracy: 0.9805 - val_loss: 0.7045 - val_accuracy: 0.9299\n",
      "Epoch 41/50\n",
      "77624/77624 [==============================] - 275s 4ms/step - loss: 0.0571 - accuracy: 0.9806 - val_loss: 0.8269 - val_accuracy: 0.9293\n",
      "Epoch 42/50\n",
      "77624/77624 [==============================] - 275s 4ms/step - loss: 0.0573 - accuracy: 0.9805 - val_loss: 0.7591 - val_accuracy: 0.9314\n",
      "Epoch 43/50\n",
      "77624/77624 [==============================] - 275s 4ms/step - loss: 0.0572 - accuracy: 0.9805 - val_loss: 0.5943 - val_accuracy: 0.9316\n",
      "Epoch 44/50\n",
      "77624/77624 [==============================] - 276s 4ms/step - loss: 0.0568 - accuracy: 0.9806 - val_loss: 0.6198 - val_accuracy: 0.9321\n",
      "Epoch 45/50\n",
      "77624/77624 [==============================] - 274s 4ms/step - loss: 0.0568 - accuracy: 0.9806 - val_loss: 0.9963 - val_accuracy: 0.9308\n",
      "Epoch 46/50\n",
      "77624/77624 [==============================] - 275s 4ms/step - loss: 0.0567 - accuracy: 0.9807 - val_loss: 0.6296 - val_accuracy: 0.9324\n",
      "Epoch 47/50\n",
      "77624/77624 [==============================] - 275s 4ms/step - loss: 0.0568 - accuracy: 0.9806 - val_loss: 0.9647 - val_accuracy: 0.9180\n",
      "Epoch 48/50\n",
      "77624/77624 [==============================] - 275s 4ms/step - loss: 0.0568 - accuracy: 0.9806 - val_loss: 0.9829 - val_accuracy: 0.9312\n",
      "Epoch 49/50\n",
      "77624/77624 [==============================] - 275s 4ms/step - loss: 0.0568 - accuracy: 0.9806 - val_loss: 2.4957 - val_accuracy: 0.9301\n",
      "Epoch 50/50\n",
      "77624/77624 [==============================] - 275s 4ms/step - loss: 0.0564 - accuracy: 0.9808 - val_loss: 1.0876 - val_accuracy: 0.9321\n",
      "Время обучения:  13771.924170970917\n",
      "Максимальное значение accuracy: 0.9807960391044617\n",
      "Минимальное значение loss: 0.05639917775988579\n",
      "Максимальное значение val_accuracy: 0.9592424631118774\n",
      "Минимальное значение val_loss: 0.10837708413600922\n"
     ]
    },
    {
     "data": {
      "image/png": "[encoded data removed]",
      "text/plain": [
       "<Figure size 640x480 with 1 Axes>"
      ]
     },
     "metadata": {},
     "output_type": "display_data"
    },
    {
     "data": {
      "image/png": "[encoded data removed]",
      "text/plain": [
       "<Figure size 640x480 with 1 Axes>"
      ]
     },
     "metadata": {},
     "output_type": "display_data"
    }
   ],
   "source": [
    "import time\n",
    "start_time = time.time() # счетчик времени\n",
    "history = model22_cl.fit(x,                            # Обучающая выборка\n",
    "                        y,                               # Метки классов обучающей выборки\n",
    "                        epochs=50,                             # Количество эпох\n",
    "                        batch_size=32,                         # Размер подвыборки для одного шага по данным на эпохе\n",
    "                        validation_data=(x_val, y_val))   # Проверочная выборка и метки классов проверочной выборки\n",
    "\n",
    "end_time = time.time() # счетчик времени\n",
    "print(\"Время обучения: \", end_time - start_time) # вывод времени обучения\n",
    "\n",
    "print('Максимальное значение accuracy:', max(history.history['accuracy'])) # print the highest accuracy achieved by the model\n",
    "print('Минимальное значение loss:', min(history.history['loss']))\n",
    "print('Максимальное значение val_accuracy:', max(history.history['val_accuracy']))\n",
    "print('Минимальное значение val_loss:', min(history.history['val_loss']))\n",
    "\n",
    "plt.plot(history.history['accuracy'],\n",
    "         label='Доля верных ответов на обучающем наборе')\n",
    "plt.plot(history.history['val_accuracy'],\n",
    "         label='Доля верных ответов на проверочном наборе')\n",
    "plt.xlabel('Эпоха обучения')\n",
    "plt.ylabel('Доля верных ответов')\n",
    "plt.legend()\n",
    "plt.show()\n",
    "\n",
    "plt.plot(history.history['loss'],\n",
    "         label='Ошибка на обучающем наборе')\n",
    "plt.plot(history.history['val_loss'],\n",
    "         label='Ошибка на проверочном наборе')\n",
    "plt.xlabel('Эпоха обучения')\n",
    "plt.ylabel('Ошибка')\n",
    "plt.legend()\n",
    "plt.show()"
   ]
  },
  {
   "cell_type": "code",
   "execution_count": 35,
   "metadata": {
    "executionInfo": {
     "elapsed": 3,
     "status": "ok",
     "timestamp": 1692394103486,
     "user": {
      "displayName": "Александр Тагаев",
      "userId": "13655966265219234172"
     },
     "user_tz": -180
    },
    "id": "AG-3pzb5KgNb"
   },
   "outputs": [],
   "source": [
    "model22_cl.save('C:/AI/Scoring/Red/model2_all_3.keras')"
   ]
  },
  {
   "cell_type": "code",
   "execution_count": 36,
   "metadata": {
    "colab": {
     "base_uri": "https://localhost:8080/"
    },
    "executionInfo": {
     "elapsed": 55373,
     "status": "ok",
     "timestamp": 1692394158857,
     "user": {
      "displayName": "Александр Тагаев",
      "userId": "13655966265219234172"
     },
     "user_tz": -180
    },
    "id": "CHCEQ7EzKgQ8",
    "outputId": "ce47d0aa-7a77-4af9-d729-9e1ff0eb885b"
   },
   "outputs": [
    {
     "name": "stdout",
     "output_type": "stream",
     "text": [
      "24008/24008 [==============================] - 38s 1ms/step - loss: 0.6283 - accuracy: 0.9739\n"
     ]
    }
   ],
   "source": [
    "loss, acc = model22_cl.evaluate(x_test, y_test, verbose=1) #classification"
   ]
  },
  {
   "cell_type": "code",
   "execution_count": 37,
   "metadata": {
    "id": "1st7Rsj4Yxg4"
   },
   "outputs": [
    {
     "data": {
      "text/plain": [
       "0.6283107995986938"
      ]
     },
     "execution_count": 37,
     "metadata": {},
     "output_type": "execute_result"
    }
   ],
   "source": [
    "loss"
   ]
  },
  {
   "cell_type": "code",
   "execution_count": 38,
   "metadata": {
    "id": "4if9K-3kKgUT"
   },
   "outputs": [
    {
     "data": {
      "text/plain": [
       "0.9738731384277344"
      ]
     },
     "execution_count": 38,
     "metadata": {},
     "output_type": "execute_result"
    }
   ],
   "source": [
    "acc"
   ]
  },
  {
   "cell_type": "code",
   "execution_count": 39,
   "metadata": {
    "executionInfo": {
     "elapsed": 5,
     "status": "ok",
     "timestamp": 1692394158858,
     "user": {
      "displayName": "Александр Тагаев",
      "userId": "13655966265219234172"
     },
     "user_tz": -180
    },
    "id": "COIabsXlSnyp"
   },
   "outputs": [],
   "source": [
    "from sklearn.metrics import confusion_matrix, accuracy_score"
   ]
  },
  {
   "cell_type": "code",
   "execution_count": 40,
   "metadata": {
    "colab": {
     "base_uri": "https://localhost:8080/",
     "height": 585
    },
    "executionInfo": {
     "elapsed": 55,
     "status": "ok",
     "timestamp": 1692394209759,
     "user": {
      "displayName": "Александр Тагаев",
      "userId": "13655966265219234172"
     },
     "user_tz": -180
    },
    "id": "GNtclGlkKgYG",
    "outputId": "f344417d-28d8-41cc-b592-0ae0ba2d0140"
   },
   "outputs": [
    {
     "name": "stdout",
     "output_type": "stream",
     "text": [
      "24008/24008 [==============================] - 37s 1ms/step\n",
      "[[358932   6041]\n",
      " [ 14031 389247]]\n"
     ]
    },
    {
     "data": {
      "image/png": "[encoded data removed]",
      "text/plain": [
       "<Figure size 640x480 with 2 Axes>"
      ]
     },
     "metadata": {},
     "output_type": "display_data"
    },
    {
     "name": "stdout",
     "output_type": "stream",
     "text": [
      "Accuracy   : 0.9738731221957407\n"
     ]
    }
   ],
   "source": [
    "# compute the confusion matrix\n",
    "y_pred=model22_cl.predict(x_test)\n",
    "y_pred=np.argmax(y_pred, axis=1)\n",
    "y_test=np.argmax(y_test, axis=1)\n",
    "cm = confusion_matrix(y_test, y_pred)\n",
    "print(cm)\n",
    "\n",
    "#Plot the confusion matrix.\n",
    "sns.heatmap(cm,\n",
    "            annot=True,\n",
    "            fmt='g')\n",
    "plt.ylabel('Prediction',fontsize=13)\n",
    "plt.xlabel('Actual',fontsize=13)\n",
    "plt.title('Confusion Matrix',fontsize=17)\n",
    "plt.show()\n",
    "\n",
    "\n",
    "# Finding precision and recall\n",
    "accuracy = accuracy_score(y_test, y_pred)\n",
    "print(\"Accuracy   :\", accuracy)"
   ]
  },
  {
   "cell_type": "code",
   "execution_count": null,
   "metadata": {
    "id": "WNiFXWYDKgmj"
   },
   "outputs": [],
   "source": []
  },
  {
   "cell_type": "code",
   "execution_count": null,
   "metadata": {
    "id": "KQt5OXBJMhwN"
   },
   "outputs": [],
   "source": []
  }
 ],
 "metadata": {
  "accelerator": "GPU",
  "colab": {
   "collapsed_sections": [
    "nQ2nVqSYo09E",
    "cr2QM7HdLF86"
   ],
   "gpuType": "T4",
   "provenance": [
    {
     "file_id": "1wokjAy8uAX17d0Yo_ZZso6Y-fifr-k0R",
     "timestamp": 1691611072067
    },
    {
     "file_id": "1VagxgUldlPRQ2S6MFlmiXg-JXbUsA-4k",
     "timestamp": 1690961067470
    },
    {
     "file_id": "1R0z9UANkr3MU_7-5cOvBvgJy_QX6qzPr",
     "timestamp": 1690788776434
    },
    {
     "file_id": "1ENR3OvXnen1X6MtmSQ4YC_p73Jiw2nWP",
     "timestamp": 1689770905653
    },
    {
     "file_id": "1LVSXtRjgwx224hBwwuUbYozTDh3kXrFL",
     "timestamp": 1689674400992
    },
    {
     "file_id": "1eNXxB2gSo5SnxLK4Lt2qGNuBbXuvkv3q",
     "timestamp": 1689143621744
    },
    {
     "file_id": "15p1KsgpT5VXRlvSIhVwpc3BnehoKYS6E",
     "timestamp": 1688544396477
    },
    {
     "file_id": "1uv953cLQhnuT8Z7imnc7U__d5USQP-aV",
     "timestamp": 1688277940909
    },
    {
     "file_id": "180qnAobhFvrUw5QRiHzGl9LnMzMsVuQ-",
     "timestamp": 1686749701070
    }
   ]
  },
  "kernelspec": {
   "display_name": "Python 3 (ipykernel)",
   "language": "python",
   "name": "python3"
  },
  "language_info": {
   "codemirror_mode": {
    "name": "ipython",
    "version": 3
   },
   "file_extension": ".py",
   "mimetype": "text/x-python",
   "name": "python",
   "nbconvert_exporter": "python",
   "pygments_lexer": "ipython3",
   "version": "3.11.4"
  }
 },
 "nbformat": 4,
 "nbformat_minor": 4
}
