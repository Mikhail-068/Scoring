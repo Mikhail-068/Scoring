https://colab.research.google.com/drive/1dNy3QBP3ACP32Qh8TZX8IKHqlIpMFEkj?usp=sharing
